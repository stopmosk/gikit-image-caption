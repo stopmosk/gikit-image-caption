{
 "cells": [
  {
   "cell_type": "code",
   "execution_count": 8,
   "id": "0d40aab6-0f02-4b8b-9d08-6de32ff3627b",
   "metadata": {},
   "outputs": [],
   "source": [
    "import time\n",
    "import json"
   ]
  },
  {
   "cell_type": "code",
   "execution_count": 3,
   "id": "f07a4cdc-4f6e-4842-ac44-ffe2445ec6fd",
   "metadata": {},
   "outputs": [],
   "source": [
    "from oscar.run_cap_eval_only import OscarLive"
   ]
  },
  {
   "cell_type": "code",
   "execution_count": 1,
   "id": "9ed958ab-79ca-4b0b-948e-2185b1090e29",
   "metadata": {},
   "outputs": [],
   "source": [
    "# a = OscarLive()"
   ]
  },
  {
   "cell_type": "code",
   "execution_count": 6,
   "id": "7155a177-fe96-4feb-a839-9e296617dc35",
   "metadata": {},
   "outputs": [],
   "source": [
    "res_sentence = ['aa' for _ in range(10)]\n",
    "with open('gen_result.txt', 'w') as f:\n",
    "    [f.writelines(s + '\\n') for s in res_sentence]"
   ]
  },
  {
   "cell_type": "code",
   "execution_count": 10,
   "id": "528118f3-f31a-4c0a-a206-802fd5d6346f",
   "metadata": {},
   "outputs": [],
   "source": [
    "with open('preds.json', 'w') as f:\n",
    "    json.dump(res_sentence, f, ensure_ascii=False)"
   ]
  },
  {
   "cell_type": "code",
   "execution_count": null,
   "id": "8a34d0a9-4abf-469d-a32c-f51acd471b83",
   "metadata": {},
   "outputs": [],
   "source": []
  }
 ],
 "metadata": {
  "kernelspec": {
   "display_name": "Python 3 (ipykernel)",
   "language": "python",
   "name": "python3"
  },
  "language_info": {
   "codemirror_mode": {
    "name": "ipython",
    "version": 3
   },
   "file_extension": ".py",
   "mimetype": "text/x-python",
   "name": "python",
   "nbconvert_exporter": "python",
   "pygments_lexer": "ipython3",
   "version": "3.8.12"
  }
 },
 "nbformat": 4,
 "nbformat_minor": 5
}
