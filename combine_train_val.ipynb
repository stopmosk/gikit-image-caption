{
 "cells": [
  {
   "cell_type": "code",
   "execution_count": 1,
   "id": "19d00edd-90a6-495f-8cc9-eae584fc5801",
   "metadata": {},
   "outputs": [],
   "source": [
    "import json\n",
    "import os\n",
    "import os.path as op\n",
    "import csv\n",
    "\n",
    "from tqdm import tqdm"
   ]
  },
  {
   "cell_type": "code",
   "execution_count": 2,
   "id": "9ef633bc-90a1-4570-8eda-e894a8cd3728",
   "metadata": {},
   "outputs": [],
   "source": [
    "data_source = '../datasets/coco_caption'\n",
    "data_export = '../datasets/coco_kar_feats'"
   ]
  },
  {
   "cell_type": "code",
   "execution_count": 3,
   "id": "8258418e-b5fe-47fb-a011-2ccd432c6dac",
   "metadata": {},
   "outputs": [
    {
     "data": {
      "text/plain": [
       "['coco-train-words.p',\n",
       " 'test.feature.lineidx',\n",
       " 'test.feature.tsv',\n",
       " 'test.label.lineidx',\n",
       " 'test.label.tsv',\n",
       " 'test.yaml',\n",
       " 'test_caption.json',\n",
       " 'test_caption_coco_format.json',\n",
       " 'train.feature.lineidx',\n",
       " 'train.feature.tsv',\n",
       " 'train.label.lineidx',\n",
       " 'train.label.tsv',\n",
       " 'train.yaml',\n",
       " 'train_caption.json',\n",
       " 'val.feature.lineidx',\n",
       " 'val.feature.tsv',\n",
       " 'val.label.lineidx',\n",
       " 'val.label.tsv',\n",
       " 'val.yaml',\n",
       " 'val_caption.json',\n",
       " 'val_caption_coco_format.json']"
      ]
     },
     "execution_count": 3,
     "metadata": {},
     "output_type": "execute_result"
    }
   ],
   "source": [
    "sorted(os.listdir(data_source))"
   ]
  },
  {
   "cell_type": "code",
   "execution_count": 4,
   "id": "1168cb91-1020-4df2-96bd-3f7fd603ad7f",
   "metadata": {},
   "outputs": [],
   "source": [
    "splits = ['train', 'val', 'test']\n",
    "coco_ids = {}\n",
    "\n",
    "for split in splits:\n",
    "    split_ids = []\n",
    "    with open(op.join(data_export, f'{split}.label.tsv')) as tsv_file:\n",
    "        split_tsv = csv.reader(tsv_file, delimiter=\"\\t\")\n",
    "        \n",
    "        for row in split_tsv:\n",
    "            split_ids.append(row[0])\n",
    "\n",
    "    coco_ids[split] = set(split_ids)"
   ]
  },
  {
   "cell_type": "code",
   "execution_count": 5,
   "id": "72bf8778-a5fa-43d9-bdb2-47905fd1ac24",
   "metadata": {},
   "outputs": [
    {
     "data": {
      "text/plain": [
       "['313420', '126216', '506942', '373255', '203081']"
      ]
     },
     "execution_count": 5,
     "metadata": {},
     "output_type": "execute_result"
    }
   ],
   "source": [
    "list(coco_ids['val'])[:5]"
   ]
  },
  {
   "cell_type": "code",
   "execution_count": 6,
   "id": "26202150-797a-4eeb-8994-21e3e872a488",
   "metadata": {},
   "outputs": [
    {
     "name": "stdout",
     "output_type": "stream",
     "text": [
      "[82783, 5000, 5000]\n"
     ]
    }
   ],
   "source": [
    "print([len(coco_ids[split]) for split in splits])  # train, val, test"
   ]
  },
  {
   "cell_type": "code",
   "execution_count": 7,
   "id": "496f5341-5c92-47c3-bdb8-af7add31a061",
   "metadata": {},
   "outputs": [],
   "source": [
    "captions = {}\n",
    "\n",
    "for split in splits:\n",
    "    with open(op.join(data_source, f'{split}_caption.json')) as f:\n",
    "        captions[split] = json.load(f)\n"
   ]
  },
  {
   "cell_type": "code",
   "execution_count": 8,
   "id": "d1bcdc99-f2bd-45c9-a64b-7a87a8dfaf66",
   "metadata": {},
   "outputs": [
    {
     "data": {
      "text/plain": [
       "{'image_id': '179765',\n",
       " 'id': 38,\n",
       " 'caption': 'A black Honda motorcycle parked in front of a garage.'}"
      ]
     },
     "execution_count": 8,
     "metadata": {},
     "output_type": "execute_result"
    }
   ],
   "source": [
    "captions['test'][0]"
   ]
  },
  {
   "cell_type": "code",
   "execution_count": 9,
   "id": "83587523-334a-4998-9ba1-0c2888e99e22",
   "metadata": {},
   "outputs": [
    {
     "name": "stdout",
     "output_type": "stream",
     "text": [
      "[113349, 5002, 5002]\n"
     ]
    }
   ],
   "source": [
    "print([len(captions[split]) // 5  for split in splits])  # train, val, test"
   ]
  },
  {
   "cell_type": "code",
   "execution_count": 10,
   "id": "f9f86b8d-87b9-450b-a1f3-affdc99bacbd",
   "metadata": {},
   "outputs": [],
   "source": [
    "captions_all = captions['train'] + captions['val'] + captions['test']\n",
    "new_captions = {split: [] for split in splits}\n",
    "\n",
    "for cap in captions_all:\n",
    "    for split in splits:\n",
    "        if cap['image_id'] in coco_ids[split]:\n",
    "            new_captions[split].append(cap)"
   ]
  },
  {
   "cell_type": "code",
   "execution_count": 11,
   "id": "cbb9f133-fea3-47c9-aa7c-d4b77433ceaa",
   "metadata": {},
   "outputs": [
    {
     "data": {
      "text/plain": [
       "{'image_id': '106140',\n",
       " 'id': 98,\n",
       " 'caption': 'A large passenger airplane flying through the air.'}"
      ]
     },
     "execution_count": 11,
     "metadata": {},
     "output_type": "execute_result"
    }
   ],
   "source": [
    "new_captions['val'][0]"
   ]
  },
  {
   "cell_type": "code",
   "execution_count": 12,
   "id": "07990bfe-04b0-419c-8f72-d18573577fde",
   "metadata": {},
   "outputs": [],
   "source": [
    "for split in splits:\n",
    "    with open(op.join(data_export, f'{split}_caption.json'), 'w') as wf:\n",
    "        json.dump(new_captions[split], wf)"
   ]
  },
  {
   "cell_type": "code",
   "execution_count": 13,
   "id": "0b34b95a-5a8e-43e6-91b7-52303341ef84",
   "metadata": {},
   "outputs": [
    {
     "data": {
      "text/plain": [
       "dict_keys(['annotations', 'images', 'type', 'info', 'licenses'])"
      ]
     },
     "execution_count": 13,
     "metadata": {},
     "output_type": "execute_result"
    }
   ],
   "source": [
    "with open(op.join(data_source, 'val_caption_coco_format.json')) as f:\n",
    "    val_caps_cf = json.load(f)\n",
    "    \n",
    "val_caps_cf.keys()"
   ]
  },
  {
   "cell_type": "code",
   "execution_count": 14,
   "id": "7adad708-68d1-415c-a9c5-bcba2065c3b3",
   "metadata": {},
   "outputs": [],
   "source": [
    "images = [{'id': img_id, 'file_name': img_id} for img_id in coco_ids['val']]\n",
    "\n",
    "new_val_caps_cf = {\n",
    "    'annotations': new_captions['val'],\n",
    "    'images': images,\n",
    "    'type': val_caps_cf['type'],\n",
    "    'info': val_caps_cf['info'],\n",
    "    'licenses': val_caps_cf['licenses'],\n",
    "}"
   ]
  },
  {
   "cell_type": "code",
   "execution_count": 15,
   "id": "962d96ad-dc9a-436d-8b55-9fa9c91db802",
   "metadata": {},
   "outputs": [],
   "source": [
    "# new_val_caps_cf['images'][0]"
   ]
  },
  {
   "cell_type": "code",
   "execution_count": 16,
   "id": "502b8489-b983-4c28-9f36-0d9b0ff0e585",
   "metadata": {},
   "outputs": [],
   "source": [
    "with open(op.join(data_export, f'val_caption_coco_format.json'), 'w') as wf:\n",
    "    json.dump(new_val_caps_cf, wf)"
   ]
  },
  {
   "cell_type": "code",
   "execution_count": null,
   "id": "89eb896c-1a66-494d-9625-4d9dbad6c080",
   "metadata": {},
   "outputs": [],
   "source": []
  }
 ],
 "metadata": {
  "kernelspec": {
   "display_name": "Python 3",
   "language": "python",
   "name": "python3"
  },
  "language_info": {
   "codemirror_mode": {
    "name": "ipython",
    "version": 3
   },
   "file_extension": ".py",
   "mimetype": "text/x-python",
   "name": "python",
   "nbconvert_exporter": "python",
   "pygments_lexer": "ipython3",
   "version": "3.8.10"
  }
 },
 "nbformat": 4,
 "nbformat_minor": 5
}
