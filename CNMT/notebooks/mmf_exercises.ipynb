{
 "cells": [
  {
   "cell_type": "code",
   "execution_count": 136,
   "id": "9b56a73b-13ac-40cf-aafc-7ba43a33977b",
   "metadata": {},
   "outputs": [],
   "source": [
    "import numpy as np\n",
    "import torch\n",
    "import torch.nn as nn\n",
    "import math"
   ]
  },
  {
   "cell_type": "code",
   "execution_count": 137,
   "id": "9f2af55a-ab68-4b8b-8dfb-131190aae76c",
   "metadata": {},
   "outputs": [],
   "source": [
    "def _get_mask(nums, max_num):\n",
    "    # non_pad_mask: b x lq, torch.float32, 0. on PAD\n",
    "    batch_size = nums.size(0)\n",
    "    arange = torch.arange(0, max_num).unsqueeze(0).expand(batch_size, -1)\n",
    "    non_pad_mask = arange.to(nums.device).lt(nums.unsqueeze(-1))\n",
    "    non_pad_mask = non_pad_mask.type(torch.float32)\n",
    "    return non_pad_mask\n",
    "\n",
    "class OcrPtrNet(nn.Module):\n",
    "    def __init__(self, hidden_size, query_key_size=None):\n",
    "        super().__init__()\n",
    "\n",
    "        if query_key_size is None:\n",
    "            query_key_size = hidden_size\n",
    "        self.hidden_size = hidden_size\n",
    "        self.query_key_size = query_key_size\n",
    "\n",
    "        self.query = nn.Linear(hidden_size, query_key_size)\n",
    "        self.key = nn.Linear(hidden_size, query_key_size)\n",
    "\n",
    "    def forward(self, query_inputs, key_inputs, attention_mask):\n",
    "        extended_attention_mask = (1.0 - attention_mask) * -10000.0\n",
    "        assert extended_attention_mask.dim() == 2\n",
    "        extended_attention_mask = extended_attention_mask.unsqueeze(1)\n",
    "\n",
    "        query_layer = self.query(query_inputs)\n",
    "        if query_layer.dim() == 2:\n",
    "            query_layer = query_layer.unsqueeze(1)\n",
    "            squeeze_result = True\n",
    "        else:\n",
    "            squeeze_result = False\n",
    "        key_layer = self.key(key_inputs)\n",
    "\n",
    "        scores = torch.matmul(\n",
    "            query_layer,\n",
    "            key_layer.transpose(-1, -2)\n",
    "        )\n",
    "        scores = scores / math.sqrt(self.query_key_size)\n",
    "        scores = scores + extended_attention_mask\n",
    "        if squeeze_result:\n",
    "            scores = scores.squeeze(1)\n",
    "\n",
    "        return scores\n",
    "\n"
   ]
  },
  {
   "cell_type": "code",
   "execution_count": 138,
   "id": "d5d45261-bf4a-4484-b406-676fa063e079",
   "metadata": {},
   "outputs": [
    {
     "data": {
      "text/plain": [
       "tensor([ 5,  5, 13,  3, 13,  9, 18, 19])"
      ]
     },
     "execution_count": 138,
     "metadata": {},
     "output_type": "execute_result"
    }
   ],
   "source": [
    "ocr_nums = torch.randint(20, (1,8))[0] + 1\n",
    "ocr_nums"
   ]
  },
  {
   "cell_type": "code",
   "execution_count": 139,
   "id": "cf560b4a-9db1-49c6-994a-cb00479243ec",
   "metadata": {},
   "outputs": [
    {
     "data": {
      "text/plain": [
       "tensor([1., 1., 1., 1., 1., 0., 0., 0., 0., 0., 0., 0., 0., 0., 0., 0., 0., 0.,\n",
       "        0., 0., 0., 0., 0., 0., 0., 0., 0., 0., 0., 0., 0., 0., 0., 0., 0., 0.,\n",
       "        0., 0., 0., 0., 0., 0., 0., 0., 0., 0., 0., 0., 0., 0.])"
      ]
     },
     "execution_count": 139,
     "metadata": {},
     "output_type": "execute_result"
    }
   ],
   "source": [
    "ocr_mask = _get_mask(ocr_nums, 50)\n",
    "ocr_mask[0]"
   ]
  },
  {
   "cell_type": "code",
   "execution_count": 140,
   "id": "7b3a1a30-440e-4117-9e1d-5622f3f91d40",
   "metadata": {},
   "outputs": [],
   "source": [
    "e_mask = (1.0 - ocr_mask) * -10000.0\n",
    "assert e_mask.dim() == 2"
   ]
  },
  {
   "cell_type": "code",
   "execution_count": 141,
   "id": "4bf4341c-f45f-4e75-82fe-48e6cf3daf48",
   "metadata": {},
   "outputs": [
    {
     "data": {
      "text/plain": [
       "tensor([[    -0.,     -0.,     -0.,     -0.,     -0., -10000., -10000., -10000.,\n",
       "         -10000., -10000., -10000., -10000., -10000., -10000., -10000., -10000.,\n",
       "         -10000., -10000., -10000., -10000., -10000., -10000., -10000., -10000.,\n",
       "         -10000., -10000., -10000., -10000., -10000., -10000., -10000., -10000.,\n",
       "         -10000., -10000., -10000., -10000., -10000., -10000., -10000., -10000.,\n",
       "         -10000., -10000., -10000., -10000., -10000., -10000., -10000., -10000.,\n",
       "         -10000., -10000.],\n",
       "        [    -0.,     -0.,     -0.,     -0.,     -0., -10000., -10000., -10000.,\n",
       "         -10000., -10000., -10000., -10000., -10000., -10000., -10000., -10000.,\n",
       "         -10000., -10000., -10000., -10000., -10000., -10000., -10000., -10000.,\n",
       "         -10000., -10000., -10000., -10000., -10000., -10000., -10000., -10000.,\n",
       "         -10000., -10000., -10000., -10000., -10000., -10000., -10000., -10000.,\n",
       "         -10000., -10000., -10000., -10000., -10000., -10000., -10000., -10000.,\n",
       "         -10000., -10000.],\n",
       "        [    -0.,     -0.,     -0.,     -0.,     -0.,     -0.,     -0.,     -0.,\n",
       "             -0.,     -0.,     -0.,     -0.,     -0., -10000., -10000., -10000.,\n",
       "         -10000., -10000., -10000., -10000., -10000., -10000., -10000., -10000.,\n",
       "         -10000., -10000., -10000., -10000., -10000., -10000., -10000., -10000.,\n",
       "         -10000., -10000., -10000., -10000., -10000., -10000., -10000., -10000.,\n",
       "         -10000., -10000., -10000., -10000., -10000., -10000., -10000., -10000.,\n",
       "         -10000., -10000.],\n",
       "        [    -0.,     -0.,     -0., -10000., -10000., -10000., -10000., -10000.,\n",
       "         -10000., -10000., -10000., -10000., -10000., -10000., -10000., -10000.,\n",
       "         -10000., -10000., -10000., -10000., -10000., -10000., -10000., -10000.,\n",
       "         -10000., -10000., -10000., -10000., -10000., -10000., -10000., -10000.,\n",
       "         -10000., -10000., -10000., -10000., -10000., -10000., -10000., -10000.,\n",
       "         -10000., -10000., -10000., -10000., -10000., -10000., -10000., -10000.,\n",
       "         -10000., -10000.],\n",
       "        [    -0.,     -0.,     -0.,     -0.,     -0.,     -0.,     -0.,     -0.,\n",
       "             -0.,     -0.,     -0.,     -0.,     -0., -10000., -10000., -10000.,\n",
       "         -10000., -10000., -10000., -10000., -10000., -10000., -10000., -10000.,\n",
       "         -10000., -10000., -10000., -10000., -10000., -10000., -10000., -10000.,\n",
       "         -10000., -10000., -10000., -10000., -10000., -10000., -10000., -10000.,\n",
       "         -10000., -10000., -10000., -10000., -10000., -10000., -10000., -10000.,\n",
       "         -10000., -10000.],\n",
       "        [    -0.,     -0.,     -0.,     -0.,     -0.,     -0.,     -0.,     -0.,\n",
       "             -0., -10000., -10000., -10000., -10000., -10000., -10000., -10000.,\n",
       "         -10000., -10000., -10000., -10000., -10000., -10000., -10000., -10000.,\n",
       "         -10000., -10000., -10000., -10000., -10000., -10000., -10000., -10000.,\n",
       "         -10000., -10000., -10000., -10000., -10000., -10000., -10000., -10000.,\n",
       "         -10000., -10000., -10000., -10000., -10000., -10000., -10000., -10000.,\n",
       "         -10000., -10000.],\n",
       "        [    -0.,     -0.,     -0.,     -0.,     -0.,     -0.,     -0.,     -0.,\n",
       "             -0.,     -0.,     -0.,     -0.,     -0.,     -0.,     -0.,     -0.,\n",
       "             -0.,     -0., -10000., -10000., -10000., -10000., -10000., -10000.,\n",
       "         -10000., -10000., -10000., -10000., -10000., -10000., -10000., -10000.,\n",
       "         -10000., -10000., -10000., -10000., -10000., -10000., -10000., -10000.,\n",
       "         -10000., -10000., -10000., -10000., -10000., -10000., -10000., -10000.,\n",
       "         -10000., -10000.],\n",
       "        [    -0.,     -0.,     -0.,     -0.,     -0.,     -0.,     -0.,     -0.,\n",
       "             -0.,     -0.,     -0.,     -0.,     -0.,     -0.,     -0.,     -0.,\n",
       "             -0.,     -0.,     -0., -10000., -10000., -10000., -10000., -10000.,\n",
       "         -10000., -10000., -10000., -10000., -10000., -10000., -10000., -10000.,\n",
       "         -10000., -10000., -10000., -10000., -10000., -10000., -10000., -10000.,\n",
       "         -10000., -10000., -10000., -10000., -10000., -10000., -10000., -10000.,\n",
       "         -10000., -10000.]])"
      ]
     },
     "execution_count": 141,
     "metadata": {},
     "output_type": "execute_result"
    }
   ],
   "source": [
    "e_mask"
   ]
  },
  {
   "cell_type": "code",
   "execution_count": 165,
   "id": "e421872a-5339-423a-b5ac-352a0180fe6a",
   "metadata": {},
   "outputs": [],
   "source": [
    "bs = 32"
   ]
  },
  {
   "cell_type": "code",
   "execution_count": 166,
   "id": "78f9580a-b662-4afd-9159-4ec8709c8408",
   "metadata": {},
   "outputs": [
    {
     "data": {
      "text/plain": [
       "torch.Size([32, 170, 768])"
      ]
     },
     "execution_count": 166,
     "metadata": {},
     "output_type": "execute_result"
    }
   ],
   "source": [
    "top_out = torch.randint(20, (bs, 170, 768)) + 1\n",
    "top_out = top_out.float()\n",
    "top_out.shape"
   ]
  },
  {
   "cell_type": "code",
   "execution_count": 167,
   "id": "d5063a16-a11e-45db-b04a-6cffdb9cf9a5",
   "metadata": {},
   "outputs": [
    {
     "data": {
      "text/plain": [
       "(torch.Size([32, 40, 768]), torch.Size([32, 50, 768]))"
      ]
     },
     "execution_count": 167,
     "metadata": {},
     "output_type": "execute_result"
    }
   ],
   "source": [
    "bert_dec_output = top_out[:, 0:40, :] # bert output text dec\n",
    "bert_ocr_output = top_out[:, 120:170, :] # bert out ocr dec\n",
    "(bert_dec_output.shape, bert_ocr_output.shape)"
   ]
  },
  {
   "cell_type": "code",
   "execution_count": 168,
   "id": "2c6441e8-8561-43ea-81ae-3736de7abd91",
   "metadata": {},
   "outputs": [
    {
     "data": {
      "text/plain": [
       "tensor([209, 183, 238, 164, 569, 358,  76, 129, 247, 633, 331, 223, 125, 492,\n",
       "        353, 114,  86, 147, 426, 297,  86, 552, 345, 551, 656, 284, 591, 658,\n",
       "        220, 573, 627, 423])"
      ]
     },
     "execution_count": 168,
     "metadata": {},
     "output_type": "execute_result"
    }
   ],
   "source": [
    "ocr_nums = torch.randint(666, (1, bs))[0] + 1\n",
    "ocr_nums\n",
    "\n",
    "# binary mask of valid OCR vs padding\n",
    "#ocr_nums = len(input_ocr_ids)  # count of ocr tokens found in image\n"
   ]
  },
  {
   "cell_type": "code",
   "execution_count": 169,
   "id": "e700842c-530c-4458-8c25-6eb063033d5c",
   "metadata": {},
   "outputs": [],
   "source": [
    "## pad at the end; used anyway by obj, ocr mmt encode\n",
    "ocr_mask = _get_mask(ocr_nums, 50)"
   ]
  },
  {
   "cell_type": "code",
   "execution_count": 170,
   "id": "ea59c20f-31c4-48bd-90d0-67fb9f274a36",
   "metadata": {},
   "outputs": [],
   "source": [
    "ocr_ptr_net = OcrPtrNet(768)"
   ]
  },
  {
   "cell_type": "code",
   "execution_count": 171,
   "id": "b646a279-59e9-4227-9cec-6137c5fc519c",
   "metadata": {},
   "outputs": [],
   "source": [
    "\n",
    "\n",
    "\n",
    "#fixed_scores = self.cls(top_out[:, :input_ids.shape[-1], :]  # (1, 0:70, 768))\n",
    "dynamic_ocr_scores = ocr_ptr_net(bert_dec_output, bert_ocr_output, ocr_mask)\n",
    "#scores = torch.cat([fixed_scores, dynamic_ocr_scores], dim=-1)"
   ]
  },
  {
   "cell_type": "code",
   "execution_count": 172,
   "id": "ce83ac5c-8c89-4ad0-8671-1828adecf58d",
   "metadata": {},
   "outputs": [
    {
     "data": {
      "text/plain": [
       "torch.Size([32, 40, 50])"
      ]
     },
     "execution_count": 172,
     "metadata": {},
     "output_type": "execute_result"
    }
   ],
   "source": [
    "dynamic_ocr_scores.shape"
   ]
  },
  {
   "cell_type": "code",
   "execution_count": 243,
   "id": "675a4dbb-51c7-4cc5-8add-dac24f90cb37",
   "metadata": {},
   "outputs": [],
   "source": [
    "pad_pos = torch.Tensor([0, 0, 0, 0, 0, 0])\n",
    "\n",
    "def get_sample():\n",
    "    k = np.random.randint(35) + 1\n",
    "    print(k, end=' ')\n",
    "    empty_pos = torch.vstack([pad_pos for i in range(50 - k)])\n",
    "    ocr_pos = torch.vstack([torch.rand_like(pad_pos) for i in range(k)])\n",
    "    ocr_input = torch.cat([ocr_pos, empty_pos])\n",
    "    return ocr_input"
   ]
  },
  {
   "cell_type": "code",
   "execution_count": 244,
   "id": "062d5d86-29b5-40eb-9489-a157d2aad08d",
   "metadata": {},
   "outputs": [
    {
     "name": "stdout",
     "output_type": "stream",
     "text": [
      "9 32 25 12 2 32 27 15 23 20 29 12 16 9 26 6 21 19 29 27 23 5 9 5 31 15 16 8 11 21 29 17 "
     ]
    },
    {
     "data": {
      "text/plain": [
       "torch.Size([32, 50, 6])"
      ]
     },
     "execution_count": 244,
     "metadata": {},
     "output_type": "execute_result"
    }
   ],
   "source": [
    "a = torch.stack([get_sample() for i in range(32)])\n",
    "a.shape"
   ]
  },
  {
   "cell_type": "code",
   "execution_count": 246,
   "id": "c185b0c7-e56c-41dc-aaff-f1b144c1e9c6",
   "metadata": {},
   "outputs": [
    {
     "data": {
      "text/plain": [
       "tensor([ 9, 32, 25, 12,  2, 32, 27, 15, 23, 20, 29, 12, 16,  9, 26,  6, 21, 19,\n",
       "        29, 27, 23,  5,  9,  5, 31, 15, 16,  8, 11, 21, 29, 17])"
      ]
     },
     "execution_count": 246,
     "metadata": {},
     "output_type": "execute_result"
    }
   ],
   "source": [
    "c = torch.sum(a != pad_pos, dim=1)[:, 0]\n",
    "#c.shape\n",
    "c"
   ]
  },
  {
   "cell_type": "code",
   "execution_count": null,
   "id": "c56e262e-a18c-44de-885f-eafb7967ee69",
   "metadata": {},
   "outputs": [],
   "source": []
  },
  {
   "cell_type": "code",
   "execution_count": null,
   "id": "e5644dfe-58db-4f48-b4c2-4241307e9cb9",
   "metadata": {},
   "outputs": [],
   "source": []
  }
 ],
 "metadata": {
  "kernelspec": {
   "display_name": "Python 3 (ipykernel)",
   "language": "python",
   "name": "python3"
  },
  "language_info": {
   "codemirror_mode": {
    "name": "ipython",
    "version": 3
   },
   "file_extension": ".py",
   "mimetype": "text/x-python",
   "name": "python",
   "nbconvert_exporter": "python",
   "pygments_lexer": "ipython3",
   "version": "3.8.12"
  }
 },
 "nbformat": 4,
 "nbformat_minor": 5
}
