{
 "cells": [
  {
   "cell_type": "code",
   "execution_count": 2,
   "id": "e37b3f4d-0ffe-485c-8dcc-944660cf01d7",
   "metadata": {},
   "outputs": [],
   "source": [
    "import os\n",
    "import os.path as op\n",
    "\n",
    "import numpy as np\n",
    "\n",
    "from PIL import Image\n",
    "from tqdm import tqdm\n",
    "\n",
    "os.environ['CUDA_VISIBLE_DEVICES']='0'\n",
    "import easyocr"
   ]
  },
  {
   "cell_type": "code",
   "execution_count": 12,
   "id": "a40c01cd-3637-4e52-bc13-e883fff8fa0f",
   "metadata": {},
   "outputs": [
    {
     "data": {
      "text/plain": [
       "{'date created': '24-NOV-2021'}"
      ]
     },
     "execution_count": 12,
     "metadata": {},
     "output_type": "execute_result"
    }
   ],
   "source": [
    "root_dir = '/hdd2/sergeishutov/imagecaption/CNMT'\n",
    "feat_path = 'CNMT/data/my_data/features'\n",
    "\n",
    "npy_path = 'CNMT/data/imdb/imdb_test_filtered_by_image_id.npy'\n",
    "npy_path = 'CNMT/data/my_data/imdb/imdb_test_my.npy'\n",
    "npy_filepath = op.join(root_dir, npy_path)\n",
    "test_imdb = np.load(npy_filepath, allow_pickle=True)\n",
    "test_imdb[0]"
   ]
  },
  {
   "cell_type": "code",
   "execution_count": 13,
   "id": "912612ea-9ab6-4fcf-891b-b72abfb9a640",
   "metadata": {},
   "outputs": [
    {
     "data": {
      "text/plain": [
       "{'image_id': 'pisklia',\n",
       " 'image_name': 'pisklia.jpg',\n",
       " 'image_width': 960,\n",
       " 'image_height': 1280,\n",
       " 'feature_path': 'pisklia.npy',\n",
       " 'image_path': 'pisklia.jpg',\n",
       " 'ocr_tokens': ('PURINA', 'Friskies)', '5', 'Jou', '3ooge', 'PROMISES', 'Qor'),\n",
       " 'ocr_normalized_boxes': array([[0.190625  , 0.43203124, 0.3125    , 0.45625   ],\n",
       "        [0.17395833, 0.45703125, 0.35416666, 0.51484376],\n",
       "        [0.25729167, 0.53984374, 0.278125  , 0.56171876],\n",
       "        [0.146875  , 0.59296876, 0.16979167, 0.60234374],\n",
       "        [0.08854166, 0.69375   , 0.18125   , 0.71875   ],\n",
       "        [0.21993439, 0.5605159 , 0.3206906 , 0.58089036],\n",
       "        [0.278125  , 0.6171875 , 0.32291666, 0.6171875 ]], dtype=float32),\n",
       " 'ocr_confidence': (0.9810469320665792,\n",
       "  0.8598374226868856,\n",
       "  0.999999880790714,\n",
       "  0.23523691199411914,\n",
       "  0.7148659685278661,\n",
       "  0.9973083918729231,\n",
       "  0.021062389752532745),\n",
       " 'obj_normalized_boxes': array([[0.258828  , 0.12873708, 0.8447698 , 0.68176556],\n",
       "        [0.38090697, 0.        , 0.48324636, 0.19783321],\n",
       "        [0.6833734 , 0.3035861 , 0.8425677 , 0.34579676],\n",
       "        [0.68277687, 0.2989023 , 0.73230225, 0.3352231 ],\n",
       "        [0.7975078 , 0.29596537, 0.83764744, 0.33941647],\n",
       "        [0.4210578 , 0.05888898, 0.99875003, 0.5889687 ],\n",
       "        [0.40725332, 0.0145958 , 0.51813483, 0.226428  ],\n",
       "        [0.        , 0.49490505, 0.11699916, 0.88823   ],\n",
       "        [0.7954642 , 0.18031615, 0.9183892 , 0.24959219],\n",
       "        [0.6550275 , 0.28775883, 0.84965676, 0.35691154],\n",
       "        [0.59362453, 0.13694112, 0.6938383 , 0.26068464],\n",
       "        [0.5703636 , 0.15444206, 0.9069169 , 0.420197  ],\n",
       "        [0.7445915 , 0.37208244, 0.7897219 , 0.4035409 ],\n",
       "        [0.4832005 , 0.18196899, 0.81116956, 0.5714715 ],\n",
       "        [0.06518067, 0.0243928 , 0.9841153 , 0.5990949 ],\n",
       "        [0.        , 0.5216385 , 0.08175853, 0.7728889 ],\n",
       "        [0.14228664, 0.24778461, 0.99875003, 0.9392295 ],\n",
       "        [0.01955095, 0.39214584, 0.586166  , 0.84863836],\n",
       "        [0.6858    , 0.2999682 , 0.74979085, 0.34981018],\n",
       "        [0.65951496, 0.28674358, 0.7392969 , 0.3425207 ],\n",
       "        [0.67687446, 0.51147777, 0.7490627 , 0.6199918 ],\n",
       "        [0.30053562, 0.        , 0.70234066, 0.45567194],\n",
       "        [0.03384335, 0.48425665, 0.12159792, 0.77582234],\n",
       "        [0.6588163 , 0.15584956, 0.9416303 , 0.23039556],\n",
       "        [0.        , 0.47725782, 0.18574308, 0.7060719 ],\n",
       "        [0.        , 0.05313187, 0.29933438, 0.3941212 ],\n",
       "        [0.62761426, 0.35361627, 0.895445  , 0.43261108],\n",
       "        [0.17210338, 0.6295234 , 0.2476155 , 0.6909128 ],\n",
       "        [0.7299896 , 0.3618233 , 0.8002847 , 0.41063157],\n",
       "        [0.68188363, 0.5832051 , 0.74073786, 0.61624414],\n",
       "        [0.5688726 , 0.14832056, 0.85432595, 0.25371158],\n",
       "        [0.79532605, 0.3004794 , 0.85837156, 0.3494121 ],\n",
       "        [0.6660759 , 0.28996125, 0.79713184, 0.34066853],\n",
       "        [0.        , 0.51845086, 0.12010966, 0.6710282 ],\n",
       "        [0.5387365 , 0.55528295, 0.7576443 , 0.6526137 ],\n",
       "        [0.2198169 , 0.66869324, 0.25306135, 0.6914304 ],\n",
       "        [0.        , 0.12736005, 0.74339306, 0.8493756 ],\n",
       "        [0.0282362 , 0.3756881 , 0.4194871 , 0.73572105],\n",
       "        [0.38318247, 0.60993963, 0.46513712, 0.7103741 ],\n",
       "        [0.64320207, 0.47765502, 0.7451347 , 0.6200319 ],\n",
       "        [0.33739644, 0.        , 0.53071576, 0.31035665],\n",
       "        [0.3106181 , 0.        , 0.99875003, 0.36610812],\n",
       "        [0.5358389 , 0.46989727, 0.6420336 , 0.64529765],\n",
       "        [0.5083184 , 0.49113306, 0.7565464 , 0.6464042 ],\n",
       "        [0.55746645, 0.22353211, 0.9458426 , 0.39678615],\n",
       "        [0.        , 0.5177449 , 0.7533931 , 1.0097692 ],\n",
       "        [0.74690163, 0.16416866, 0.94553465, 0.2455279 ],\n",
       "        [0.16963582, 0.        , 0.6283729 , 0.5913332 ],\n",
       "        [0.7368172 , 0.3818434 , 0.7953092 , 0.41109857],\n",
       "        [0.        , 0.        , 0.32833833, 0.24958856],\n",
       "        [0.5602133 , 0.5983193 , 0.62982637, 0.6509833 ],\n",
       "        [0.5768241 , 0.3509174 , 0.7246626 , 0.44106388],\n",
       "        [0.05346329, 0.        , 0.99875003, 0.3273694 ],\n",
       "        [0.23371832, 0.6702961 , 0.25598797, 0.6882471 ],\n",
       "        [0.6694166 , 0.2740041 , 0.838314  , 0.40733457],\n",
       "        [0.6831539 , 0.28907984, 0.84964997, 0.32456702],\n",
       "        [0.1975535 , 0.61980295, 0.37279826, 0.7331696 ],\n",
       "        [0.164115  , 0.6467458 , 0.41005823, 0.7677875 ],\n",
       "        [0.14677815, 0.5245097 , 0.89094484, 1.0190625 ],\n",
       "        [0.5710747 , 0.60723186, 0.62057453, 0.6439718 ],\n",
       "        [0.79144204, 0.35275567, 0.94294477, 0.45963344],\n",
       "        [0.17215317, 0.02431528, 0.9103208 , 0.16765167],\n",
       "        [0.6052282 , 0.36943763, 0.751586  , 0.41828543],\n",
       "        [0.00220458, 0.5287953 , 0.10999881, 0.59742194],\n",
       "        [0.63616425, 0.25778598, 0.87004405, 0.34006375],\n",
       "        [0.2609197 , 0.6826851 , 0.3234318 , 0.71308255],\n",
       "        [0.46776697, 0.5446359 , 0.77884114, 0.79838026],\n",
       "        [0.3805986 , 0.16400322, 0.87648064, 0.35364968],\n",
       "        [0.5849525 , 0.15422049, 0.75261253, 0.30144733],\n",
       "        [0.        , 0.37779114, 0.37385026, 1.0190625 ]], dtype=float32),\n",
       " 'caption_id': 300000000,\n",
       " 'set_name': 'test',\n",
       " 'image_classes': {'book',\n",
       "  'box',\n",
       "  'cat',\n",
       "  'chair',\n",
       "  'dog',\n",
       "  'ear',\n",
       "  'ears',\n",
       "  'eye',\n",
       "  'eyes',\n",
       "  'face',\n",
       "  'finger',\n",
       "  'floor',\n",
       "  'hand',\n",
       "  'head',\n",
       "  'leg',\n",
       "  'legs',\n",
       "  'nose',\n",
       "  'paw',\n",
       "  'paws',\n",
       "  'shadow',\n",
       "  'sticker',\n",
       "  'table',\n",
       "  'tail',\n",
       "  'whiskers'},\n",
       " 'num_boxes': 70}"
      ]
     },
     "execution_count": 13,
     "metadata": {},
     "output_type": "execute_result"
    }
   ],
   "source": [
    "test_imdb[-1]"
   ]
  },
  {
   "cell_type": "code",
   "execution_count": 3,
   "id": "5cd6fb96-08a5-4ff8-b669-af462068a6b3",
   "metadata": {},
   "outputs": [],
   "source": [
    "def normalize_bbox(bbox, im_size):\n",
    "    #normalize bbox coords from absolute to 0..1\n",
    "    #a,b  c,b  c,d  a,d  \n",
    "    #xmin,ymin xmax,ymin xmax,ymax xmin,ymax\n",
    "    assert len(bbox) == 4 and len(bbox[0]) == 2\n",
    "    w, h = im_size\n",
    "    xmin = bbox[0][0] / w\n",
    "    xmax = bbox[2][0] / w\n",
    "    ymin = bbox[0][1] / h\n",
    "    ymax = bbox[2][1] / h\n",
    "    return (xmin, ymin, xmax, ymax)"
   ]
  },
  {
   "cell_type": "code",
   "execution_count": 4,
   "id": "fcfd7465-7959-406a-ab69-e2574fd98e08",
   "metadata": {},
   "outputs": [],
   "source": [
    "reader = easyocr.Reader(['en'])"
   ]
  },
  {
   "cell_type": "code",
   "execution_count": 5,
   "id": "065b40d6-aaa3-4c2a-8bad-02d0109ed3ef",
   "metadata": {},
   "outputs": [
    {
     "name": "stderr",
     "output_type": "stream",
     "text": [
      "100%|██████████| 7/7 [00:01<00:00,  6.19it/s]\n"
     ]
    }
   ],
   "source": [
    "img_dir = op.join(root_dir, 'images')\n",
    "im_list = sorted(os.listdir(img_dir))\n",
    "\n",
    "images_info = [{'date created': '24-NOV-2021'}]\n",
    "\n",
    "for im_filename in tqdm(im_list):\n",
    "    im_filepath = op.join(img_dir, im_filename)\n",
    "\n",
    "    # im = Image.open(im_filepath)\n",
    "    # w, h = im.width, im.height\n",
    "    # im.close()\n",
    "\n",
    "    feat_npy_name = im_filename.split('.')[0] + '_info.npy'\n",
    "    feat_npy_filepath = op.join(root_dir, feat_path, feat_npy_name)\n",
    "\n",
    "    feat_item = np.load(feat_npy_filepath, allow_pickle=True).item()\n",
    "    # assert feat_item['image_width'] == w and feat_item['image_height'] == h\n",
    "    w, h = feat_item['image_width'], feat_item['image_height']\n",
    "    \n",
    "    obj_boxes = feat_item['bbox']  # N x [xmix, ymin, xmax, ymax]\n",
    "    obj_boxes[:, ::2] /= w\n",
    "    obj_boxes[:, 1::2] /= h\n",
    "    obj_normalized_boxes = obj_boxes\n",
    "    \n",
    "    ocr_output = reader.readtext(im_filepath)\n",
    "    if ocr_output:\n",
    "        ocr_boxes, ocr_tokens, ocr_confidence = list(zip(*ocr_output))\n",
    "        ocr_normalized_boxes = np.asarray([normalize_bbox(t, (w, h)) for t in ocr_boxes], dtype=np.float32)\n",
    "    else:\n",
    "        continue\n",
    "        #ocr_normalized_boxes = np.zeros((1, 4), dtype=np.float32)\n",
    "        #ocr_tokens, ocr_confidence = [' '], [1e-5]\n",
    "\n",
    "    img_id = im_filename.split('.')[0]\n",
    "\n",
    "    img_info = {\n",
    "        'image_id': img_id,\n",
    "        'image_name': img_id,\n",
    "        'image_width': w,\n",
    "        'image_height': h,\n",
    "        'feature_path': img_id + '.npy',\n",
    "        'image_path': im_filename,\n",
    "        'ocr_tokens': ocr_tokens,\n",
    "        'ocr_normalized_boxes': ocr_normalized_boxes,\n",
    "        'ocr_confidence': ocr_confidence,\n",
    "        'obj_normalized_boxes': obj_normalized_boxes,\n",
    "        'caption_id': 300000000,\n",
    "        'set_name': 'test',\n",
    "    }\n",
    "    images_info.append(img_info)\n"
   ]
  },
  {
   "cell_type": "code",
   "execution_count": 6,
   "id": "b40a212c-d412-4caa-a5ad-284c9d90b54b",
   "metadata": {},
   "outputs": [],
   "source": [
    "np.save('data/my_data/imdb/imdb_test_my.npy', images_info)\n",
    "# az = np.load('../tmp.npy', allow_pickle=True)"
   ]
  },
  {
   "cell_type": "code",
   "execution_count": 7,
   "id": "0e00c4e3-4f73-4b97-841a-6de9da890221",
   "metadata": {},
   "outputs": [
    {
     "data": {
      "text/plain": [
       "array([[0.10493827, 0.48026314, 0.15185185, 0.57236844],\n",
       "       [0.27283952, 0.4890351 , 0.4888889 , 0.5964912 ],\n",
       "       [0.17530864, 0.5701754 , 0.21975309, 0.5877193 ],\n",
       "       [0.10493827, 0.54605263, 0.14938271, 0.68201756],\n",
       "       [0.2691358 , 0.5548246 , 0.49506173, 0.75438595],\n",
       "       [0.37777779, 0.7719298 , 0.48518518, 0.84210527],\n",
       "       [0.00617284, 0.83114034, 0.09012346, 0.97587717]], dtype=float32)"
      ]
     },
     "execution_count": 7,
     "metadata": {},
     "output_type": "execute_result"
    }
   ],
   "source": [
    "images_info[5]['ocr_normalized_boxes'] #.reshape(-1,4)"
   ]
  },
  {
   "cell_type": "code",
   "execution_count": 8,
   "id": "ae1ea346-75e2-4454-9cd8-25c1ba763bd6",
   "metadata": {},
   "outputs": [
    {
     "data": {
      "text/plain": [
       "dict_keys(['image_id', 'image_name', 'image_width', 'image_height', 'feature_path', 'image_path', 'ocr_tokens', 'ocr_normalized_boxes', 'ocr_confidence', 'obj_normalized_boxes', 'caption_id', 'set_name'])"
      ]
     },
     "execution_count": 8,
     "metadata": {},
     "output_type": "execute_result"
    }
   ],
   "source": [
    "images_info[4].keys()"
   ]
  },
  {
   "cell_type": "code",
   "execution_count": null,
   "id": "a4ddac7d-ea7e-4d91-9571-6b0334c8f92b",
   "metadata": {},
   "outputs": [],
   "source": [
    "os.makedirs('', exist_ok=True)"
   ]
  },
  {
   "cell_type": "code",
   "execution_count": 9,
   "id": "4bf870fc-64e5-4b08-975a-15c83d018505",
   "metadata": {},
   "outputs": [
    {
     "ename": "ModuleNotFoundError",
     "evalue": "No module named 'scene_graph_benchmark'",
     "output_type": "error",
     "traceback": [
      "\u001b[0;31m---------------------------------------------------------------------------\u001b[0m",
      "\u001b[0;31mModuleNotFoundError\u001b[0m                       Traceback (most recent call last)",
      "\u001b[0;32m<ipython-input-9-bee2360475cb>\u001b[0m in \u001b[0;36m<module>\u001b[0;34m\u001b[0m\n\u001b[0;32m----> 1\u001b[0;31m \u001b[0;32mfrom\u001b[0m \u001b[0msgg_bench\u001b[0m\u001b[0;34m.\u001b[0m\u001b[0mtools\u001b[0m\u001b[0;34m.\u001b[0m\u001b[0mdemo\u001b[0m\u001b[0;34m.\u001b[0m\u001b[0mdemo_image_oscar\u001b[0m \u001b[0;32mimport\u001b[0m \u001b[0mVinVLDetector\u001b[0m\u001b[0;34m\u001b[0m\u001b[0;34m\u001b[0m\u001b[0m\n\u001b[0m",
      "\u001b[0;32m/hdd2/sergeishutov/imagecaption/oscar/huawei-image-caption/sgg_bench/tools/demo/demo_image_oscar.py\u001b[0m in \u001b[0;36m<module>\u001b[0;34m\u001b[0m\n\u001b[1;32m     12\u001b[0m \u001b[0;32mimport\u001b[0m \u001b[0mtorch\u001b[0m\u001b[0;34m\u001b[0m\u001b[0;34m\u001b[0m\u001b[0m\n\u001b[1;32m     13\u001b[0m \u001b[0;34m\u001b[0m\u001b[0m\n\u001b[0;32m---> 14\u001b[0;31m \u001b[0;32mfrom\u001b[0m \u001b[0mscene_graph_benchmark\u001b[0m\u001b[0;34m.\u001b[0m\u001b[0mAttrRCNN\u001b[0m \u001b[0;32mimport\u001b[0m \u001b[0mAttrRCNN\u001b[0m\u001b[0;34m\u001b[0m\u001b[0;34m\u001b[0m\u001b[0m\n\u001b[0m\u001b[1;32m     15\u001b[0m \u001b[0;32mfrom\u001b[0m \u001b[0mmaskrcnn_benchmark\u001b[0m\u001b[0;34m.\u001b[0m\u001b[0mdata\u001b[0m\u001b[0;34m.\u001b[0m\u001b[0mtransforms\u001b[0m \u001b[0;32mimport\u001b[0m \u001b[0mbuild_transforms\u001b[0m\u001b[0;34m\u001b[0m\u001b[0;34m\u001b[0m\u001b[0m\n\u001b[1;32m     16\u001b[0m \u001b[0;32mfrom\u001b[0m \u001b[0mmaskrcnn_benchmark\u001b[0m\u001b[0;34m.\u001b[0m\u001b[0mutils\u001b[0m\u001b[0;34m.\u001b[0m\u001b[0mcheckpoint\u001b[0m \u001b[0;32mimport\u001b[0m \u001b[0mDetectronCheckpointer\u001b[0m\u001b[0;34m\u001b[0m\u001b[0;34m\u001b[0m\u001b[0m\n",
      "\u001b[0;31mModuleNotFoundError\u001b[0m: No module named 'scene_graph_benchmark'"
     ]
    }
   ],
   "source": [
    "from sgg_bench.tools.demo.demo_image_oscar import VinVLDetector"
   ]
  },
  {
   "cell_type": "code",
   "execution_count": null,
   "id": "b22256b7-884e-4c09-8e8e-5d8f7f8fb860",
   "metadata": {},
   "outputs": [],
   "source": []
  }
 ],
 "metadata": {
  "kernelspec": {
   "display_name": "Python 3 (ipykernel)",
   "language": "python",
   "name": "python3"
  },
  "language_info": {
   "codemirror_mode": {
    "name": "ipython",
    "version": 3
   },
   "file_extension": ".py",
   "mimetype": "text/x-python",
   "name": "python",
   "nbconvert_exporter": "python",
   "pygments_lexer": "ipython3",
   "version": "3.8.12"
  }
 },
 "nbformat": 4,
 "nbformat_minor": 5
}
