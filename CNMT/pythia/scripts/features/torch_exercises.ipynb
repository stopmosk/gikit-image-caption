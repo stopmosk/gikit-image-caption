{
 "cells": [
  {
   "cell_type": "code",
   "execution_count": 2,
   "id": "b2a0888d-fc13-42c1-bad6-7b7292343b71",
   "metadata": {},
   "outputs": [],
   "source": [
    "import torch\n",
    "import torchvision"
   ]
  },
  {
   "cell_type": "code",
   "execution_count": 3,
   "id": "60c20752-a3fc-4821-a631-018c1958770f",
   "metadata": {},
   "outputs": [],
   "source": [
    "dets_x1y1 = torch.empty((1000, 2)).normal_(mean=0.25, std=0.1)\n",
    "dets_wh = torch.empty((1000, 2)).normal_(mean=0.5, std=0.25)\n",
    "dets_x2y2 = dets_x1y1 + dets_wh\n",
    "dets_x2y2 = torch.clamp(dets_x2y2, 0, 1)\n",
    "dets = torch.hstack([dets_x1y1, dets_x2y2])"
   ]
  },
  {
   "cell_type": "code",
   "execution_count": 4,
   "id": "2f9c3705-0e7d-455a-9f2a-e31826282f4e",
   "metadata": {},
   "outputs": [
    {
     "data": {
      "text/plain": [
       "tensor([0.2201, 0.2077, 1.0000, 0.4104])"
      ]
     },
     "execution_count": 4,
     "metadata": {},
     "output_type": "execute_result"
    }
   ],
   "source": [
    "a = torch.rand((1000, 31))\n",
    "# dets = torch.rand((1000, 4))\n",
    "# dets = torch.empty((1000, 4)).normal_(mean=0.5, std=0.25)\n",
    "\n",
    "a[:, 7] *= 10\n",
    "dets[0]"
   ]
  },
  {
   "cell_type": "code",
   "execution_count": 5,
   "id": "730dbc4c-4833-49cc-b2fb-04482247cff3",
   "metadata": {},
   "outputs": [
    {
     "data": {
      "text/plain": [
       "tensor([0.0082, 0.0071, 0.0100, 0.0096, 0.0062, 0.0083, 0.0103, 0.7801, 0.0070,\n",
       "        0.0089, 0.0056, 0.0050, 0.0049, 0.0095, 0.0071, 0.0052, 0.0100, 0.0051,\n",
       "        0.0058, 0.0063, 0.0054, 0.0088, 0.0114, 0.0096, 0.0054, 0.0047, 0.0071,\n",
       "        0.0078, 0.0057, 0.0062, 0.0074])"
      ]
     },
     "execution_count": 5,
     "metadata": {},
     "output_type": "execute_result"
    }
   ],
   "source": [
    "scores = torch.nn.functional.softmax(a, -1)\n",
    "scores.shape\n",
    "scores[-1]"
   ]
  },
  {
   "cell_type": "code",
   "execution_count": 6,
   "id": "f5a58210-330c-4770-a8b0-aef276d8c645",
   "metadata": {},
   "outputs": [],
   "source": [
    "start_index = 1\n",
    "conf_thresh = 0.2\n",
    "max_feats = 50"
   ]
  },
  {
   "cell_type": "code",
   "execution_count": 7,
   "id": "8771edda-7773-4e2e-b363-aaf558f1a504",
   "metadata": {},
   "outputs": [
    {
     "name": "stdout",
     "output_type": "stream",
     "text": [
      "tensor([ 6,  6, 26,  6,  6,  6,  6,  6,  6, 17,  6,  6,  6,  6,  6,  6,  6,  6,\n",
      "         6,  6])\n",
      "tensor([396,  62, 914, 556, 605, 949, 284, 908, 880, 390, 578,  20,  70,  75,\n",
      "        974, 393, 822, 784, 748, 301])\n",
      "tensor([6, 6, 6, 6, 6, 6, 6, 6, 6, 6, 6, 6, 6, 6, 6, 6, 6, 6, 6, 6, 6, 6, 6, 6,\n",
      "        6, 6, 6, 6, 6, 6, 6, 6, 6, 6, 6, 6, 6, 6, 6, 6, 6, 6, 6, 6, 6, 6, 6, 6,\n",
      "        6, 6])\n"
     ]
    },
    {
     "ename": "NameError",
     "evalue": "name 'keep_ids' is not defined",
     "output_type": "error",
     "traceback": [
      "\u001b[0;31m---------------------------------------------------------------------------\u001b[0m",
      "\u001b[0;31mNameError\u001b[0m                                 Traceback (most recent call last)",
      "\u001b[0;32m/tmp/ipykernel_2815/2625329922.py\u001b[0m in \u001b[0;36m<module>\u001b[0;34m\u001b[0m\n\u001b[1;32m     19\u001b[0m \u001b[0;34m\u001b[0m\u001b[0m\n\u001b[1;32m     20\u001b[0m \u001b[0;31m# # max_conf = torch.zeros(scores.shape[0]).to(cur_device)  # 1000\u001b[0m\u001b[0;34m\u001b[0m\u001b[0;34m\u001b[0m\u001b[0;34m\u001b[0m\u001b[0m\n\u001b[0;32m---> 21\u001b[0;31m \u001b[0;34m(\u001b[0m\u001b[0mobj_ids\u001b[0m\u001b[0;34m[\u001b[0m\u001b[0msorted_indices\u001b[0m\u001b[0;34m[\u001b[0m\u001b[0;36m0\u001b[0m\u001b[0;34m]\u001b[0m\u001b[0;34m]\u001b[0m\u001b[0;34m,\u001b[0m \u001b[0msorted_ids_by_score\u001b[0m\u001b[0;34m[\u001b[0m\u001b[0;36m0\u001b[0m\u001b[0;34m]\u001b[0m\u001b[0;34m,\u001b[0m \u001b[0mkeep_ids\u001b[0m\u001b[0;34m[\u001b[0m\u001b[0;36m0\u001b[0m\u001b[0;34m]\u001b[0m\u001b[0;34m)\u001b[0m\u001b[0;34m\u001b[0m\u001b[0;34m\u001b[0m\u001b[0m\n\u001b[0m",
      "\u001b[0;31mNameError\u001b[0m: name 'keep_ids' is not defined"
     ]
    }
   ],
   "source": [
    "obj_scores, obj_ids = torch.max(scores[:, start_index:], 1)  # находим максимальные скоры в каждом боксе из 1000 и получаем соотв id классов\n",
    "print(obj_ids[:20])\n",
    "keep = torchvision.ops.batched_nms(dets, obj_scores, obj_ids, 0.5)  # фильтруем боксы, keep возвращает номера боксов, которые нужно оставить\n",
    "print(keep[:20])\n",
    "\n",
    "keeped_scores = obj_scores[keep]\n",
    "keeped_dets = dets[keep]\n",
    "keeped_obj_ids = obj_ids[keep]\n",
    "\n",
    "sorted_scores, sorted_indices = torch.sort(keeped_scores, descending=True)\n",
    "sorted_ids_by_score = keeped_obj_ids[sorted_indices]\n",
    "sorted_dets_by_score = keeped_dets[sorted_indices]\n",
    "# print(sorted_scores)\n",
    "\n",
    "res_scores = sorted_scores[sorted_scores > conf_thresh][:max_feats]\n",
    "res_obj_ids = sorted_ids_by_score[sorted_scores > conf_thresh][:max_feats]\n",
    "res_dets = sorted_dets_by_score[sorted_scores > conf_thresh][:max_feats]\n",
    "print(res_obj_ids)\n",
    "\n",
    "# # max_conf = torch.zeros(scores.shape[0]).to(cur_device)  # 1000\n",
    "(obj_ids[sorted_indices[0]], sorted_ids_by_score[0], keep_ids[0])"
   ]
  },
  {
   "cell_type": "code",
   "execution_count": 8,
   "id": "e9e5f26e-837f-4d64-9502-6d4816baa685",
   "metadata": {},
   "outputs": [
    {
     "ename": "IndexError",
     "evalue": "The shape of the mask [2] at index 0 does not match the shape of the indexed tensor [8] at index 0",
     "output_type": "error",
     "traceback": [
      "\u001b[0;31m---------------------------------------------------------------------------\u001b[0m",
      "\u001b[0;31mIndexError\u001b[0m                                Traceback (most recent call last)",
      "\u001b[0;32m/tmp/ipykernel_2815/1210829015.py\u001b[0m in \u001b[0;36m<module>\u001b[0;34m\u001b[0m\n\u001b[1;32m      2\u001b[0m \u001b[0mmask\u001b[0m \u001b[0;34m=\u001b[0m \u001b[0;34m(\u001b[0m\u001b[0ma\u001b[0m \u001b[0;34m>\u001b[0m \u001b[0;36m3\u001b[0m\u001b[0;34m)\u001b[0m\u001b[0;34m\u001b[0m\u001b[0;34m\u001b[0m\u001b[0m\n\u001b[1;32m      3\u001b[0m \u001b[0mmask\u001b[0m \u001b[0;34m=\u001b[0m \u001b[0mmask\u001b[0m\u001b[0;34m[\u001b[0m\u001b[0;34m:\u001b[0m\u001b[0;36m2\u001b[0m\u001b[0;34m]\u001b[0m\u001b[0;34m\u001b[0m\u001b[0;34m\u001b[0m\u001b[0m\n\u001b[0;32m----> 4\u001b[0;31m \u001b[0ma\u001b[0m\u001b[0;34m[\u001b[0m\u001b[0mmask\u001b[0m\u001b[0;34m]\u001b[0m\u001b[0;34m\u001b[0m\u001b[0;34m\u001b[0m\u001b[0m\n\u001b[0m",
      "\u001b[0;31mIndexError\u001b[0m: The shape of the mask [2] at index 0 does not match the shape of the indexed tensor [8] at index 0"
     ]
    }
   ],
   "source": [
    "a = torch.tensor([0,1,2,3,4,5,6,7])\n",
    "mask = (a > 3)\n",
    "mask = mask[:2]\n",
    "a[mask]"
   ]
  },
  {
   "cell_type": "code",
   "execution_count": 9,
   "id": "e0bf0c98-c559-4b1b-8091-fe46f8ee865f",
   "metadata": {},
   "outputs": [],
   "source": [
    "import json\n",
    "\n",
    "with open('visual_genome_categories.json') as f:\n",
    "    cats = json.load(f)\n",
    "    cats = cats['categories']\n",
    "    \n",
    "id2cat = {el['id']: el['name'] for el in cats}"
   ]
  },
  {
   "cell_type": "code",
   "execution_count": null,
   "id": "c7d82e1f-9ead-4006-ae5d-f8e7fbe2f2d0",
   "metadata": {},
   "outputs": [],
   "source": []
  },
  {
   "cell_type": "code",
   "execution_count": 10,
   "id": "833907ff-721d-4f5e-9dcc-f83fd9567b83",
   "metadata": {},
   "outputs": [
    {
     "data": {
      "text/plain": [
       "'goal'"
      ]
     },
     "execution_count": 10,
     "metadata": {},
     "output_type": "execute_result"
    }
   ],
   "source": [
    "id2cat[1]"
   ]
  },
  {
   "cell_type": "code",
   "execution_count": 11,
   "id": "8aebfb52-d4ad-4482-9a1d-aaf0e51c2423",
   "metadata": {},
   "outputs": [
    {
     "data": {
      "text/plain": [
       "3"
      ]
     },
     "execution_count": 11,
     "metadata": {},
     "output_type": "execute_result"
    }
   ],
   "source": [
    "a = torch.Tensor([6,5,4,3,2])\n",
    "b = a > 3\n",
    "b.sum().item()"
   ]
  },
  {
   "cell_type": "code",
   "execution_count": 12,
   "id": "806e0586-ef21-46a1-9ac4-adcce052bf20",
   "metadata": {},
   "outputs": [
    {
     "data": {
      "text/plain": [
       "tensor([ True,  True,  True,  True, False])"
      ]
     },
     "execution_count": 12,
     "metadata": {},
     "output_type": "execute_result"
    }
   ],
   "source": [
    "b[:4] = True\n",
    "b"
   ]
  },
  {
   "cell_type": "code",
   "execution_count": 17,
   "id": "ba867728-e186-484f-a281-82e23218f91b",
   "metadata": {},
   "outputs": [
    {
     "data": {
      "text/plain": [
       "tensor([[[0.2177, 0.2702, 0.5557,  ..., 0.0906, 0.6410, 0.4039],\n",
       "         [0.3015, 0.3306, 0.2530,  ..., 0.7917, 0.2975, 0.0917],\n",
       "         [0.0112, 0.2989, 0.2750,  ..., 0.6124, 0.5619, 0.9130],\n",
       "         ...,\n",
       "         [0.0000, 0.0000, 0.0000,  ..., 0.0000, 0.0000, 0.0000],\n",
       "         [0.0000, 0.0000, 0.0000,  ..., 0.0000, 0.0000, 0.0000],\n",
       "         [0.0000, 0.0000, 0.0000,  ..., 0.0000, 0.0000, 0.0000]]])"
      ]
     },
     "execution_count": 17,
     "metadata": {},
     "output_type": "execute_result"
    }
   ],
   "source": [
    "z = torch.rand((1, 150, 2048))\n",
    "z[:, 50:] = torch.zeros((2048))\n",
    "z"
   ]
  },
  {
   "cell_type": "code",
   "execution_count": 24,
   "id": "aacc99cd-7b03-43da-81b2-0ea2208aad2b",
   "metadata": {},
   "outputs": [
    {
     "data": {
      "text/plain": [
       "tensor(50)"
      ]
     },
     "execution_count": 24,
     "metadata": {},
     "output_type": "execute_result"
    }
   ],
   "source": [
    "(z[0].sum(dim=1) != 0).sum()"
   ]
  },
  {
   "cell_type": "code",
   "execution_count": 29,
   "id": "8c41e2f5-954f-40aa-b872-39079197e805",
   "metadata": {},
   "outputs": [
    {
     "data": {
      "text/plain": [
       "tensor([[1., 0., 0., 0., 0.],\n",
       "        [0., 1., 0., 0., 0.],\n",
       "        [0., 0., 1., 0., 0.],\n",
       "        [0., 0., 0., 1., 0.],\n",
       "        [0., 0., 0., 0., 1.]])"
      ]
     },
     "execution_count": 29,
     "metadata": {},
     "output_type": "execute_result"
    }
   ],
   "source": [
    "torch.eye(5)"
   ]
  },
  {
   "cell_type": "code",
   "execution_count": null,
   "id": "7cfcf1d7-33ca-4d29-b81f-21ebe07ee6f3",
   "metadata": {},
   "outputs": [],
   "source": []
  }
 ],
 "metadata": {
  "kernelspec": {
   "display_name": "Python 3 (ipykernel)",
   "language": "python",
   "name": "python3"
  },
  "language_info": {
   "codemirror_mode": {
    "name": "ipython",
    "version": 3
   },
   "file_extension": ".py",
   "mimetype": "text/x-python",
   "name": "python",
   "nbconvert_exporter": "python",
   "pygments_lexer": "ipython3",
   "version": "3.8.12"
  }
 },
 "nbformat": 4,
 "nbformat_minor": 5
}
