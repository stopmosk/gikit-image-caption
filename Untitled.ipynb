{
 "cells": [
  {
   "cell_type": "code",
   "execution_count": 1,
   "id": "3174fd04-95ef-4bf3-91f4-81ff3fabef02",
   "metadata": {},
   "outputs": [],
   "source": [
    "import numpy as np"
   ]
  },
  {
   "cell_type": "code",
   "execution_count": 3,
   "id": "406d98c8-9369-40b4-aa76-4d7062fe8f99",
   "metadata": {},
   "outputs": [
    {
     "data": {
      "text/plain": [
       "array([[0.9528166 , 0.03175146, 0.64427533, 0.23998457, 0.92814859,\n",
       "        0.38716797, 0.58568565, 0.53144035, 0.99038805, 0.19018271,\n",
       "        0.40298552, 0.50703677, 0.88827311, 0.38893482, 0.18526165,\n",
       "        0.43434493],\n",
       "       [0.39143232, 0.94337141, 0.66579015, 0.64325414, 0.20030063,\n",
       "        0.50126152, 0.42671198, 0.6714701 , 0.47813939, 0.05077038,\n",
       "        0.03558776, 0.30492933, 0.93166776, 0.08094236, 0.21745504,\n",
       "        0.32150804]])"
      ]
     },
     "execution_count": 3,
     "metadata": {},
     "output_type": "execute_result"
    }
   ],
   "source": [
    "a = np.random.rand(2, 16)\n",
    "a"
   ]
  },
  {
   "cell_type": "code",
   "execution_count": 4,
   "id": "aa65f81f-169f-45b5-a710-e3562f805d3c",
   "metadata": {},
   "outputs": [
    {
     "data": {
      "text/plain": [
       "array([[0., 0., 0., 0., 0., 0., 0., 0., 0., 0., 0., 0., 0., 0., 0., 0.,\n",
       "        0., 0.],\n",
       "       [0., 0., 0., 0., 0., 0., 0., 0., 0., 0., 0., 0., 0., 0., 0., 0.,\n",
       "        0., 0.]])"
      ]
     },
     "execution_count": 4,
     "metadata": {},
     "output_type": "execute_result"
    }
   ],
   "source": [
    "b = np.zeros((2, 16+2))\n",
    "b"
   ]
  },
  {
   "cell_type": "code",
   "execution_count": 6,
   "id": "5232f08e-c840-45d1-895a-2984a1b1209a",
   "metadata": {},
   "outputs": [],
   "source": [
    "b[:,:-2] = a"
   ]
  },
  {
   "cell_type": "code",
   "execution_count": 7,
   "id": "5609c602-ee41-4137-9660-1b220011fdf8",
   "metadata": {},
   "outputs": [
    {
     "data": {
      "text/plain": [
       "array([[0.9528166 , 0.03175146, 0.64427533, 0.23998457, 0.92814859,\n",
       "        0.38716797, 0.58568565, 0.53144035, 0.99038805, 0.19018271,\n",
       "        0.40298552, 0.50703677, 0.88827311, 0.38893482, 0.18526165,\n",
       "        0.43434493, 0.        , 0.        ],\n",
       "       [0.39143232, 0.94337141, 0.66579015, 0.64325414, 0.20030063,\n",
       "        0.50126152, 0.42671198, 0.6714701 , 0.47813939, 0.05077038,\n",
       "        0.03558776, 0.30492933, 0.93166776, 0.08094236, 0.21745504,\n",
       "        0.32150804, 0.        , 0.        ]])"
      ]
     },
     "execution_count": 7,
     "metadata": {},
     "output_type": "execute_result"
    }
   ],
   "source": [
    "b"
   ]
  },
  {
   "cell_type": "code",
   "execution_count": null,
   "id": "7f358e2b-aa68-4838-832e-0f0b2b94c800",
   "metadata": {},
   "outputs": [],
   "source": []
  }
 ],
 "metadata": {
  "kernelspec": {
   "display_name": "Python 3",
   "language": "python",
   "name": "python3"
  },
  "language_info": {
   "codemirror_mode": {
    "name": "ipython",
    "version": 3
   },
   "file_extension": ".py",
   "mimetype": "text/x-python",
   "name": "python",
   "nbconvert_exporter": "python",
   "pygments_lexer": "ipython3",
   "version": "3.8.8"
  }
 },
 "nbformat": 4,
 "nbformat_minor": 5
}
