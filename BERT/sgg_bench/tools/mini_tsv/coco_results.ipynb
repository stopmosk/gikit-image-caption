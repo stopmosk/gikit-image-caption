{
 "cells": [
  {
   "cell_type": "code",
   "execution_count": null,
   "id": "fb49a27d-6cd5-4c14-b982-6cb7ceaea73a",
   "metadata": {},
   "outputs": [],
   "source": [
    "import os\n",
    "import os.path as op\n",
    "import json\n",
    "import cv2\n",
    "import numpy as np\n",
    "from tqdm import tqdm\n",
    "\n",
    "import numpy as np\n",
    "import matplotlib.pyplot as plt\n",
    "\n",
    "from PIL import Image, ImageDraw"
   ]
  },
  {
   "cell_type": "code",
   "execution_count": null,
   "id": "72ca6a90-7250-4057-b031-d49570910323",
   "metadata": {},
   "outputs": [],
   "source": [
    "orig_root = '../../../../datasets/coco_caption'\n",
    "img_root = '/media/stopmosk/data/coco_2014/images'\n",
    "gen_root = '../../../../output'\n",
    "gen_filename = 'pred.coco_caption.val.beam1.max20.odlabels_coco_format.json'\n",
    "gen_filename2 = 'pred.coco_caption.test.beam5.max20.odlabels_coco_format.json'\n",
    "gen_filename3 = 'vocab.txt'\n",
    "\n",
    "# gen_fullpath = op.join(gen_root, 'scst', 'checkpoint-22-628000', gen_filename)\n",
    "# gen_fullpath = op.join(gen_root, 'txtcps_xe_clro_posenc_roz_pos_xywh', 'checkpoint-79-182960', gen_filename3)\n",
    "gen_fullpath = op.join(gen_root, 'tzz', gen_filename2)\n",
    "gen_fullpath"
   ]
  },
  {
   "cell_type": "code",
   "execution_count": null,
   "id": "04a20e30-7581-4bef-992b-7668bee5cff8",
   "metadata": {},
   "outputs": [],
   "source": [
    "with open(gen_fullpath) as fp:\n",
    "    res_json = json.load(fp)\n",
    "\n",
    "res_dict = {int(s['image_id']): s['caption'] for s in res_json}\n",
    "res_dict[391895]\n",
    "# res_dict"
   ]
  },
  {
   "cell_type": "code",
   "execution_count": null,
   "id": "b061fc16-e7dd-4882-a415-9c398df83aba",
   "metadata": {},
   "outputs": [],
   "source": [
    "def show_res(sample_idx):\n",
    "    im_filename = 'COCO_val2014_' + '0' * (12 - len(str(sample_idx))) + str(sample_idx) + '.jpg'\n",
    "    im_fullpath = os.path.join(img_root, 'val2014', im_filename)\n",
    "    im = Image.open(im_fullpath)\n",
    "    # im = im.resize((im.width//2, im.height//2))\n",
    "\n",
    "    plt.figure(figsize=(16,10))\n",
    "    draw = ImageDraw.Draw(im)\n",
    "\n",
    "    text_cap = f\"GENERATED CAP: {res_dict[sample_idx]}\"\n",
    "    print('\\n' + text_cap)\n",
    "\n",
    "    max_str_len = im.width // 6  # max string length in letters\n",
    "    strings_num = len(text_cap) // max_str_len + 1\n",
    "\n",
    "    b_text = [0, 0, im.width, 12 * strings_num]\n",
    "    draw.rectangle(b_text, fill=255)\n",
    "\n",
    "    text_cap_chunks = [text_cap[seek: seek + max_str_len] for seek in range(0, len(text_cap), max_str_len)]\n",
    "    for i, chunk in enumerate(text_cap_chunks):\n",
    "        draw.text((0, i * 12), chunk, stroke_width=40, stroke_fill=255)\n",
    "\n",
    "    plt.axis('off')\n",
    "\n",
    "    plt.imshow(im);\n",
    "    plt.savefig('coco_out/' + str(sample_idx) + '.png', bbox_inches='tight')\n",
    "\n",
    "sample_idx = 34\n",
    "\n",
    "for sample_idx in list(res_dict.keys())[:20]:\n",
    "    show_res(sample_idx)"
   ]
  },
  {
   "cell_type": "code",
   "execution_count": null,
   "id": "4efde60e-bec0-4013-a5f9-443191c4fab4",
   "metadata": {},
   "outputs": [],
   "source": []
  }
 ],
 "metadata": {
  "kernelspec": {
   "display_name": "Python 3",
   "language": "python",
   "name": "python3"
  },
  "language_info": {
   "codemirror_mode": {
    "name": "ipython",
    "version": 3
   },
   "file_extension": ".py",
   "mimetype": "text/x-python",
   "name": "python",
   "nbconvert_exporter": "python",
   "pygments_lexer": "ipython3",
   "version": "3.8.10"
  }
 },
 "nbformat": 4,
 "nbformat_minor": 5
}
