{
 "cells": [
  {
   "cell_type": "code",
   "execution_count": 2,
   "id": "fb49a27d-6cd5-4c14-b982-6cb7ceaea73a",
   "metadata": {},
   "outputs": [],
   "source": [
    "import os\n",
    "import os.path as op\n",
    "import json\n",
    "import cv2\n",
    "import base64\n",
    "import numpy as np\n",
    "from tqdm import tqdm\n",
    "\n",
    "import numpy as np\n",
    "import matplotlib.pyplot as plt\n",
    "\n",
    "from PIL import Image, ImageDraw\n",
    "\n",
    "from maskrcnn_benchmark.structures.tsv_file_ops import tsv_reader, tsv_writer\n",
    "from maskrcnn_benchmark.structures.tsv_file_ops import generate_linelist_file\n",
    "from maskrcnn_benchmark.structures.tsv_file_ops import generate_hw_file\n",
    "from maskrcnn_benchmark.structures.tsv_file import TSVFile\n",
    "from maskrcnn_benchmark.data.datasets.utils.image_ops import img_from_base64"
   ]
  },
  {
   "cell_type": "code",
   "execution_count": 18,
   "id": "72ca6a90-7250-4057-b031-d49570910323",
   "metadata": {},
   "outputs": [],
   "source": [
    "orig_root = '../../../../datasets/coco_2014'\n",
    "img_root = op.join(orig_root, 'images')\n",
    "\n",
    "exp_root = '../../../../datasets/coco_2014_nn'\n",
    "\n",
    "splits = ['train', 'val', 'test']"
   ]
  },
  {
   "cell_type": "code",
   "execution_count": 26,
   "id": "bea97cb4-43ee-4299-ad39-a0941f250e1e",
   "metadata": {},
   "outputs": [
    {
     "name": "stdout",
     "output_type": "stream",
     "text": [
      "82783\n",
      "40504\n",
      "0\n",
      "COCO_train2014_000000000009.jpg\n"
     ]
    }
   ],
   "source": [
    "img_list = {split: [] for split in splits}\n",
    "\n",
    "for split in splits[:2]:\n",
    "    img_subdir = op.join(img_root, split + '2014')\n",
    "    img_list[split] = sorted(os.listdir(img_subdir))\n",
    "\n",
    "# img_list = {split_name: set([item['image_id'] + '.jpg' for item in caps[split_name]]) for split_name in caps.keys()}\n",
    "for split in splits:\n",
    "    print(len(img_list[split]))\n"
   ]
  },
  {
   "cell_type": "code",
   "execution_count": 6,
   "id": "7abbe050-3dd5-47c3-a2bd-4c4a0b07af55",
   "metadata": {},
   "outputs": [
    {
     "name": "stderr",
     "output_type": "stream",
     "text": [
      "100%|██████████| 40775/40775 [11:43<00:00, 57.93it/s]\n",
      "100%|██████████| 40504/40504 [11:54<00:00, 56.69it/s]\n",
      "100%|██████████| 82783/82783 [25:30<00:00, 54.09it/s]\n"
     ]
    }
   ],
   "source": [
    "for split in splits[::-1]:\n",
    "    rows = []\n",
    "    rows_label = []\n",
    "    rows_hw = []\n",
    "\n",
    "    i = 5\n",
    "    for img_p in tqdm(img_list[split][:i]):\n",
    "        # img_key = img_p.split('.')[0]\n",
    "        img_key = img_p[-16:-4].lstrip('0')\n",
    "        # print(key)\n",
    "        img_path = op.join(orig_root, f\"{split}2014\", img_p)\n",
    "        img = cv2.imread(img_path)\n",
    "        img_encoded_str = base64.b64encode(cv2.imencode('.jpg', img)[1])\n",
    "        row = [img_key, img_encoded_str]\n",
    "        # print(row[1][800:900] , flush=True)\n",
    "        rows.append(row)\n",
    "\n",
    "        height = img.shape[0]\n",
    "        width = img.shape[1]\n",
    "        row_hw = [img_key, json.dumps([{'height': height, 'width': width}])]\n",
    "        rows_hw.append(row_hw)\n",
    "        \n",
    "    exp_encoded_img_file = op.join(exp_root, f'{split}.img.tsv')\n",
    "    exp_hw_file = op.join(exp_root, f'{split}.hw.tsv')\n",
    "    # print(exp_encoded_img_file, flush=True)\n",
    "    tsv_writer(rows, exp_encoded_img_file)\n",
    "    # tsv_writer(rows_label, label_file)\n",
    "    tsv_writer(rows_hw, exp_hw_file)"
   ]
  },
  {
   "cell_type": "code",
   "execution_count": null,
   "id": "4efde60e-bec0-4013-a5f9-443191c4fab4",
   "metadata": {},
   "outputs": [],
   "source": []
  }
 ],
 "metadata": {
  "kernelspec": {
   "display_name": "Python 3",
   "language": "python",
   "name": "python3"
  },
  "language_info": {
   "codemirror_mode": {
    "name": "ipython",
    "version": 3
   },
   "file_extension": ".py",
   "mimetype": "text/x-python",
   "name": "python",
   "nbconvert_exporter": "python",
   "pygments_lexer": "ipython3",
   "version": "3.8.10"
  }
 },
 "nbformat": 4,
 "nbformat_minor": 5
}
