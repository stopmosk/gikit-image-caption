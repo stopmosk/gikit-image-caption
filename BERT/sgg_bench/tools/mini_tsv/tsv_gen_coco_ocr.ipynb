{
 "cells": [
  {
   "cell_type": "code",
   "execution_count": 1,
   "id": "fb49a27d-6cd5-4c14-b982-6cb7ceaea73a",
   "metadata": {},
   "outputs": [],
   "source": [
    "import os\n",
    "import os.path as op\n",
    "import json\n",
    "import cv2\n",
    "import base64\n",
    "import numpy as np\n",
    "from tqdm import tqdm\n",
    "\n",
    "import numpy as np\n",
    "import matplotlib.pyplot as plt\n",
    "\n",
    "from PIL import Image, ImageDraw\n",
    "\n",
    "from maskrcnn_benchmark.structures.tsv_file_ops import tsv_reader, tsv_writer\n",
    "from maskrcnn_benchmark.structures.tsv_file_ops import generate_linelist_file\n",
    "from maskrcnn_benchmark.structures.tsv_file_ops import generate_hw_file\n",
    "from maskrcnn_benchmark.structures.tsv_file import TSVFile\n",
    "from maskrcnn_benchmark.data.datasets.utils.image_ops import img_from_base64"
   ]
  },
  {
   "cell_type": "code",
   "execution_count": 2,
   "id": "72ca6a90-7250-4057-b031-d49570910323",
   "metadata": {},
   "outputs": [],
   "source": [
    "orig_root = '../../../../datasets/coco_my_ocr_13'\n",
    "\n",
    "img_root = op.join(orig_root, 'images')\n",
    "cap_json = op.join(orig_root, 'captions_val2014.json')"
   ]
  },
  {
   "cell_type": "code",
   "execution_count": 3,
   "id": "bea97cb4-43ee-4299-ad39-a0941f250e1e",
   "metadata": {},
   "outputs": [
    {
     "name": "stdout",
     "output_type": "stream",
     "text": [
      "13\n"
     ]
    }
   ],
   "source": [
    "img_subdir = img_root #op.join(img_root, split + '2014')\n",
    "img_list = sorted(os.listdir(img_subdir))\n",
    "\n",
    "print(len(img_list))"
   ]
  },
  {
   "cell_type": "code",
   "execution_count": 4,
   "id": "133b48f2-3925-4f22-a970-54f5889ab109",
   "metadata": {},
   "outputs": [],
   "source": [
    "with open(cap_json) as f:\n",
    "    captions = json.load(f)\n",
    "captions = captions['annotations']"
   ]
  },
  {
   "cell_type": "code",
   "execution_count": 5,
   "id": "046ffe1e-6918-43cf-9d7c-2bc3d3fe92ea",
   "metadata": {},
   "outputs": [
    {
     "data": {
      "text/plain": [
       "{'image_id': 203564,\n",
       " 'id': 37,\n",
       " 'caption': 'A bicycle replica with a clock as the front wheel.'}"
      ]
     },
     "execution_count": 5,
     "metadata": {},
     "output_type": "execute_result"
    }
   ],
   "source": [
    "captions[0]"
   ]
  },
  {
   "cell_type": "code",
   "execution_count": 6,
   "id": "1bd47f29-dd43-467a-b372-42724a31ec3c",
   "metadata": {},
   "outputs": [],
   "source": [
    "folder_img_ids = set(img_name[13:-4].lstrip('0') for img_name in img_list)"
   ]
  },
  {
   "cell_type": "code",
   "execution_count": 8,
   "id": "9e43a10a-a553-4146-ac5f-d489ff19fc02",
   "metadata": {},
   "outputs": [
    {
     "data": {
      "text/plain": [
       "{'1532',\n",
       " '1668',\n",
       " '1779',\n",
       " '2521',\n",
       " '2525',\n",
       " '3799',\n",
       " '4093',\n",
       " '4497',\n",
       " '5595',\n",
       " '5860',\n",
       " '641',\n",
       " '7115',\n",
       " '730'}"
      ]
     },
     "execution_count": 8,
     "metadata": {},
     "output_type": "execute_result"
    }
   ],
   "source": [
    "folder_img_ids"
   ]
  },
  {
   "cell_type": "code",
   "execution_count": 11,
   "id": "26797514-1978-4853-ad36-98cf91e85948",
   "metadata": {},
   "outputs": [
    {
     "data": {
      "text/plain": [
       "[{'image_id': '641',\n",
       "  'id': 691034,\n",
       "  'caption': 'A bus that is sitting in the street.'},\n",
       " {'image_id': '641',\n",
       "  'id': 694850,\n",
       "  'caption': 'A long white bus driving down a street.'},\n",
       " {'image_id': '641',\n",
       "  'id': 701663,\n",
       "  'caption': 'A large passenger bus going down a city street. '}]"
      ]
     },
     "execution_count": 11,
     "metadata": {},
     "output_type": "execute_result"
    }
   ],
   "source": [
    "out_captions = []\n",
    "for cap_sample in captions:\n",
    "    if str(cap_sample['image_id']) in folder_img_ids:\n",
    "        out_captions.append(cap_sample)\n",
    "\n",
    "out_captions = sorted(out_captions, key=lambda x:x['image_id'])\n",
    "\n",
    "for cap in out_captions:\n",
    "    cap['image_id'] = str(cap['image_id'])\n",
    "\n",
    "out_captions[:3]"
   ]
  },
  {
   "cell_type": "code",
   "execution_count": 15,
   "id": "63ae6d21-ddfb-4bd7-9479-84c5e31cd7c0",
   "metadata": {},
   "outputs": [],
   "source": [
    "# Generate captions in COCO format\n",
    "\n",
    "idim = []\n",
    "for cap in out_captions:\n",
    "    idim.append({'id': cap['image_id'], 'file_name': cap['image_id']})\n",
    "\n",
    "out_captions_coco_fmt = {'annotations': out_captions, 'images': idim, 'type': 'captions', 'info': 'dummy', 'licenses': 'dummy'}"
   ]
  },
  {
   "cell_type": "code",
   "execution_count": 16,
   "id": "e43acf59-e6b1-45f1-bad4-1b52d23c1ecf",
   "metadata": {},
   "outputs": [],
   "source": [
    "# Save JSON\n",
    "\n",
    "with open(os.path.join(orig_root, 'captions.json'), 'w') as fp:\n",
    "    json.dump(out_captions, fp)\n",
    "    \n",
    "with open(os.path.join(orig_root, 'captions_coco_format.json'), 'w') as f:\n",
    "    json.dump(out_captions_coco_fmt, f)"
   ]
  },
  {
   "cell_type": "code",
   "execution_count": 13,
   "id": "7abbe050-3dd5-47c3-a2bd-4c4a0b07af55",
   "metadata": {},
   "outputs": [],
   "source": [
    "# Save TSV\n",
    "\n",
    "rows = []\n",
    "\n",
    "for sample in out_captions:\n",
    "    row = [sample['image_id'], sample['caption'] ]\n",
    "    rows.append(row)\n",
    "\n",
    "exp_tsv_file = op.join(orig_root, 'captions.tsv')\n",
    "tsv_writer(rows, exp_tsv_file)"
   ]
  },
  {
   "cell_type": "code",
   "execution_count": null,
   "id": "4efde60e-bec0-4013-a5f9-443191c4fab4",
   "metadata": {},
   "outputs": [],
   "source": []
  }
 ],
 "metadata": {
  "kernelspec": {
   "display_name": "Python 3",
   "language": "python",
   "name": "python3"
  },
  "language_info": {
   "codemirror_mode": {
    "name": "ipython",
    "version": 3
   },
   "file_extension": ".py",
   "mimetype": "text/x-python",
   "name": "python",
   "nbconvert_exporter": "python",
   "pygments_lexer": "ipython3",
   "version": "3.8.10"
  }
 },
 "nbformat": 4,
 "nbformat_minor": 5
}
