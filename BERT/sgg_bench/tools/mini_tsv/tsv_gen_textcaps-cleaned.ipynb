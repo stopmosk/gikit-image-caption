{
 "cells": [
  {
   "cell_type": "code",
   "execution_count": 1,
   "id": "fb49a27d-6cd5-4c14-b982-6cb7ceaea73a",
   "metadata": {},
   "outputs": [],
   "source": [
    "import os\n",
    "import os.path as op\n",
    "import json\n",
    "import cv2\n",
    "import base64\n",
    "import numpy as np\n",
    "from tqdm import tqdm\n",
    "\n",
    "from maskrcnn_benchmark.structures.tsv_file_ops import tsv_reader, tsv_writer\n",
    "from maskrcnn_benchmark.structures.tsv_file_ops import generate_linelist_file\n",
    "from maskrcnn_benchmark.structures.tsv_file_ops import generate_hw_file\n",
    "from maskrcnn_benchmark.structures.tsv_file import TSVFile\n",
    "from maskrcnn_benchmark.data.datasets.utils.image_ops import img_from_base64"
   ]
  },
  {
   "cell_type": "code",
   "execution_count": 4,
   "id": "72ca6a90-7250-4057-b031-d49570910323",
   "metadata": {},
   "outputs": [],
   "source": [
    "orig_root = '/media/stopmosk/data/huawei/datasets_orig/textcaps_orig'\n",
    "\n",
    "orig_img_train_val_dir = op.join(orig_root, 'train_images')  # Contains train & val images\n",
    "orig_img_test_dir = op.join(orig_root, 'test_images')\n",
    "\n",
    "orig_cap_filenames = {split: f'TextCaps_0.1_{split}.json' for split in ['train', 'val', 'test']}\n",
    "\n",
    "exp_root = '/media/stopmosk/data/huawei/datasets_proc/textcaps_cleaned_nn_json'\n",
    "\n",
    "# cap_exp = '_caption.json'"
   ]
  },
  {
   "cell_type": "code",
   "execution_count": 5,
   "id": "7a7a93e5-e883-4683-9585-8ce6e3471ccf",
   "metadata": {},
   "outputs": [],
   "source": [
    "caps = {'train': [], 'val': [], 'test': []}\n",
    "\n",
    "for split in caps.keys():\n",
    "    cap_filename = op.join(orig_root, orig_cap_filenames[split])\n",
    "    with open(cap_filename) as fp:\n",
    "        captions_json = json.load(fp)\n",
    "    caps[split] = captions_json['data']\n",
    "\n",
    "# caps['train'][0]"
   ]
  },
  {
   "cell_type": "code",
   "execution_count": 6,
   "id": "ec1b7d70-575b-49ab-adb0-8232e99d24d9",
   "metadata": {},
   "outputs": [
    {
     "name": "stdout",
     "output_type": "stream",
     "text": [
      "21953\n",
      "3166\n",
      "3289\n"
     ]
    }
   ],
   "source": [
    "img_list = {split_name: set([item['image_id'] + '.jpg' for item in caps[split_name]]) for split_name in caps.keys()}\n",
    "for split in img_list:\n",
    "    print(len(img_list[split]))"
   ]
  },
  {
   "cell_type": "code",
   "execution_count": 10,
   "id": "c40de3d9-6986-4f2f-8065-1730ecf7cc9b",
   "metadata": {},
   "outputs": [
    {
     "data": {
      "text/plain": [
       "'0005dcda3040dab3'"
      ]
     },
     "execution_count": 10,
     "metadata": {},
     "output_type": "execute_result"
    }
   ],
   "source": [
    "orig_root_2 = '../../../../datasets_orig/textcaps_cleaned'\n",
    "\n",
    "img_list = sorted(os.listdir(op.join(orig_root_2, 'images')))\n",
    "img_list = [name.split('.')[0] for name in img_list]\n",
    "#img_key2path = {img_p.split('.')[0]: op.join(orig_root, 'images', img_p) for img_p in img_list}\n",
    "\n",
    "#sample_id = list(img_key2path.keys())[0]\n",
    "#print(sample_id, '\\n', img_key2path[sample_id])\n",
    "img_list[0]"
   ]
  },
  {
   "cell_type": "code",
   "execution_count": 7,
   "id": "7abbe050-3dd5-47c3-a2bd-4c4a0b07af55",
   "metadata": {},
   "outputs": [],
   "source": [
    "# for split in caps.keys():  \n",
    "#     rows = []\n",
    "#     rows_label = []\n",
    "#     rows_hw = []\n",
    "\n",
    "#     i = 2\n",
    "#     for img_p in tqdm(img_list[split]):\n",
    "#         img_key = img_p.split('.')[0]\n",
    "#         img_path = op.join(orig_root, f\"{'test' if split=='test' else 'train'}_images\", img_p)\n",
    "#         img = cv2.imread(img_path)\n",
    "#         img_encoded_str = base64.b64encode(cv2.imencode('.jpg', img)[1])\n",
    "#         row = [img_key, img_encoded_str]\n",
    "#         # print(row[1][800:900] , flush=True)\n",
    "#         rows.append(row)\n",
    "\n",
    "#         height = img.shape[0]\n",
    "#         width = img.shape[1]\n",
    "#         row_hw = [img_key, json.dumps([{'height': height, 'width': width}])]\n",
    "#         rows_hw.append(row_hw)\n",
    "#         i -= 1\n",
    "#         if i == 0:\n",
    "#             break\n",
    "        \n",
    "#     exp_encoded_img_file = op.join(exp_root, f'{split}.img.tsv')\n",
    "#     exp_hw_file = op.join(exp_root, f'{split}.hw.tsv')\n",
    "#     print(exp_encoded_img_file, flush=True)\n",
    "#     tsv_writer(rows, exp_encoded_img_file)\n",
    "#     # tsv_writer(rows_label, label_file)\n",
    "#     tsv_writer(rows_hw, exp_hw_file)"
   ]
  },
  {
   "cell_type": "code",
   "execution_count": 24,
   "id": "a88477fc-697c-4438-8471-b0646cb39743",
   "metadata": {},
   "outputs": [],
   "source": [
    "# caps['val'][0]"
   ]
  },
  {
   "cell_type": "code",
   "execution_count": 11,
   "id": "b4892d6f-79ec-4bbc-b35b-545354ad72f4",
   "metadata": {},
   "outputs": [],
   "source": [
    "def generate_cap_json(split: str):\n",
    "    captions = []\n",
    "    cap_idx = 0\n",
    "    for sample in caps[split]:\n",
    "        image_id = sample['image_id']\n",
    "        caption_str = sample['caption_str']\n",
    "\n",
    "        if image_id not in img_list:\n",
    "            continue\n",
    "\n",
    "        captions.append(\n",
    "            {\n",
    "                'image_id': image_id,\n",
    "                'id': cap_idx,\n",
    "                'caption': caption_str,\n",
    "            }\n",
    "        )\n",
    "        cap_idx +=1\n",
    "    captions = sorted(captions, key=lambda k: k['image_id'])\n",
    "    print(captions[:10])\n",
    "    return captions"
   ]
  },
  {
   "cell_type": "code",
   "execution_count": 14,
   "id": "300794f7-c1c6-474a-8ed8-2186d267d64f",
   "metadata": {},
   "outputs": [
    {
     "name": "stdout",
     "output_type": "stream",
     "text": [
      "[{'image_id': '0005dcda3040dab3', 'id': 1695, 'caption': 'Three women sit at a table for a picture and it has LM on the lower right corner.'}, {'image_id': '0005dcda3040dab3', 'id': 11630, 'caption': 'Three women posing for a photo with the letters LM on the bottom.'}, {'image_id': '0005dcda3040dab3', 'id': 11733, 'caption': 'Three girls pose for a picture on Losmocanos.com'}, {'image_id': '0005dcda3040dab3', 'id': 11778, 'caption': \"three girls taking a picture that says 'lm' on the bottom right\"}, {'image_id': '0005dcda3040dab3', 'id': 12207, 'caption': 'the photo of the three young women is taken by www.losmocanos.com'}, {'image_id': '0007a5a18213563f', 'id': 14891, 'caption': 'a man named Ludwig has a statue standing of him'}, {'image_id': '0007a5a18213563f', 'id': 14939, 'caption': 'A stone statue of a man says Ludwig Koenig Von Bayern.'}, {'image_id': '0007a5a18213563f', 'id': 15349, 'caption': 'A statue of \"Ludwig\" is shown in a city square in front of a yellow building.'}, {'image_id': '0007a5a18213563f', 'id': 17872, 'caption': 'A statue of Ludvigi Koenig von Bayern is standing in a plaza.'}, {'image_id': '0007a5a18213563f', 'id': 19358, 'caption': 'The statue in the street is of Von Bayern.'}]\n",
      "[{'image_id': '000adfe5b817011c', 'id': 91, 'caption': 'man sited outside the red corner cafe shop'}, {'image_id': '000adfe5b817011c', 'id': 229, 'caption': 'A man sits on a bench on front of the Red Corner Cafe on a bright, sunny day.'}, {'image_id': '000adfe5b817011c', 'id': 1709, 'caption': 'A corner building with a sign saying Red Corner Cafe above the door.'}, {'image_id': '000adfe5b817011c', 'id': 1921, 'caption': 'A corner building with a sign that says Red Corner Cafe.'}, {'image_id': '000adfe5b817011c', 'id': 2387, 'caption': 'the Red Corner Cafe is on the building in the city'}, {'image_id': '0057a54eb95ccae6', 'id': 228, 'caption': 'a sign for the brooklyn bridge is hanging near a lot of trees'}, {'image_id': '0057a54eb95ccae6', 'id': 1148, 'caption': 'the name Brooklyn Bridge that is on a sign'}, {'image_id': '0057a54eb95ccae6', 'id': 1355, 'caption': 'A sign reading Brooklyn Bridge with an arrow pointing its direction through some barren trees.'}, {'image_id': '0057a54eb95ccae6', 'id': 1521, 'caption': 'the name Brooklyn Bridge that is outside in day'}, {'image_id': '0057a54eb95ccae6', 'id': 1547, 'caption': 'A sign saying Brooklyn Bridge is to the right is seen amongst trees with many buildings just visible in the background.'}]\n"
     ]
    }
   ],
   "source": [
    "# cap_exp = '_caption.json'\n",
    "\n",
    "all_json = []\n",
    "for split in ['train', 'val']:\n",
    "    all_json.extend(generate_cap_json(split))\n",
    "    # cap_filename = op.join(exp_root, f'{split}_caption.json')\n",
    "    # with open(cap_filename, 'w') as fp:\n",
    "    #     json.dump(generate_cap_json(split), fp)\n",
    "        \n",
    "cap_filename = op.join(exp_root, 'train_caption.json')\n",
    "with open(cap_filename, 'w') as fp:\n",
    "    json.dump(all_json, fp)"
   ]
  },
  {
   "cell_type": "code",
   "execution_count": null,
   "id": "0c2850ec-7d17-4236-ab7f-09f91866a654",
   "metadata": {},
   "outputs": [],
   "source": []
  }
 ],
 "metadata": {
  "kernelspec": {
   "display_name": "Python 3",
   "language": "python",
   "name": "python3"
  },
  "language_info": {
   "codemirror_mode": {
    "name": "ipython",
    "version": 3
   },
   "file_extension": ".py",
   "mimetype": "text/x-python",
   "name": "python",
   "nbconvert_exporter": "python",
   "pygments_lexer": "ipython3",
   "version": "3.8.10"
  }
 },
 "nbformat": 4,
 "nbformat_minor": 5
}
