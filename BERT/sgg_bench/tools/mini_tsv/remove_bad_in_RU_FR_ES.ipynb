{
 "cells": [
  {
   "cell_type": "code",
   "execution_count": 1,
   "id": "fb49a27d-6cd5-4c14-b982-6cb7ceaea73a",
   "metadata": {},
   "outputs": [],
   "source": [
    "import os\n",
    "import os.path as op\n",
    "import json\n",
    "import cv2\n",
    "import base64\n",
    "import random\n",
    "import numpy as np\n",
    "from tqdm import tqdm\n",
    "from textwrap import wrap\n",
    "\n",
    "import numpy as np\n",
    "import matplotlib.pyplot as plt\n",
    "import seaborn as sns\n",
    "\n",
    "\n",
    "from PIL import Image, ImageDraw\n",
    "\n",
    "from maskrcnn_benchmark.structures.tsv_file import TSVFile"
   ]
  },
  {
   "cell_type": "code",
   "execution_count": 2,
   "id": "72ca6a90-7250-4057-b031-d49570910323",
   "metadata": {},
   "outputs": [],
   "source": [
    "orig_root = '/mnt/Toshiba2TB/dataset_ImageCaption'"
   ]
  },
  {
   "cell_type": "code",
   "execution_count": 17,
   "id": "bdd8129f-db2d-477a-b6fa-ccd8999759ac",
   "metadata": {},
   "outputs": [
    {
     "name": "stdout",
     "output_type": "stream",
     "text": [
      "966641 962164\n",
      "{'file_name': '54fc935940ad185f5babad2fb0ab8807.jpg', 'caption': \"'s actually and old drawing\", 'category_id': -1}\n"
     ]
    }
   ],
   "source": [
    "with open(op.join(orig_root, 'cc_caps_filtered_new.json')) as f:\n",
    "    dataset_captions = json.load(f)\n",
    "\n",
    "dataset_captions = dataset_captions['annotations']\n",
    "ds_keys = {el['file_name'] for el in dataset_captions}\n",
    "\n",
    "print(len(dataset_captions), len(ds_keys))\n",
    "print(dataset_captions[0])"
   ]
  },
  {
   "cell_type": "code",
   "execution_count": 26,
   "id": "e5080d0b-b733-43c3-b104-241a309ab9be",
   "metadata": {},
   "outputs": [],
   "source": [
    "# Filter captions\n",
    "\n",
    "def filter_lang_caps(keys, lang, prefix):\n",
    "    with open(op.join(orig_root, f'Final_{lang}.json')) as f:\n",
    "        lang_captions = json.load(f)\n",
    "\n",
    "    lang_captions = lang_captions['annotations']\n",
    "    print(len(lang_captions))\n",
    "\n",
    "    filtered_captions = [el for el in lang_captions if el['file_name'] in keys]\n",
    "    print(len(filtered_captions))\n",
    "\n",
    "    with open(os.path.join(orig_root, f'{prefix}_filtered_{lang}.json'), 'w') as fp:\n",
    "        json.dump({'annotations': filtered_captions}, fp, ensure_ascii=False)\n"
   ]
  },
  {
   "cell_type": "code",
   "execution_count": null,
   "id": "d3f0dfa3-d3d3-4b59-ba6b-a06c265d7512",
   "metadata": {},
   "outputs": [],
   "source": [
    "# Do the job!\n",
    "\n",
    "for lang in ['RU', 'FR', 'SP']:\n",
    "    filter_lang_caps(ds_keys, lang, 'cc')"
   ]
  },
  {
   "cell_type": "code",
   "execution_count": 19,
   "id": "d2129897-ba93-4de9-886a-81192da8c353",
   "metadata": {},
   "outputs": [],
   "source": [
    "with open(op.join(orig_root, 'Final_EN.json')) as f:\n",
    "    final_en_captions = json.load(f)\n",
    "    final_en_captions = final_en_captions['annotations']\n",
    "    final_en_ds_keys = {el['file_name'] for el in final_en_captions}\n",
    "\n",
    "with open(op.join(orig_root, 'cc_caps_EN.json')) as f:\n",
    "    cc_en_captions = json.load(f)\n",
    "    cc_en_captions = cc_en_captions['annotations']\n",
    "    cc_en_ds_keys = {el['file_name'] for el in cc_en_captions}"
   ]
  },
  {
   "cell_type": "code",
   "execution_count": 25,
   "id": "de455a4e-2ea2-48ad-b20d-61b20805c150",
   "metadata": {},
   "outputs": [
    {
     "name": "stdout",
     "output_type": "stream",
     "text": [
      "1183619\n"
     ]
    }
   ],
   "source": [
    "ds_keys_all_except_cc = final_en_ds_keys - cc_en_ds_keys\n",
    "ds_keys_all_and_cc_filter = ds_keys_all_except_cc | ds_keys\n",
    "print(len(ds_keys_all_and_cc_filter))"
   ]
  },
  {
   "cell_type": "code",
   "execution_count": 27,
   "id": "6e57d645-b4e0-40bd-ad0c-62730fd817fc",
   "metadata": {},
   "outputs": [
    {
     "name": "stdout",
     "output_type": "stream",
     "text": [
      "2620064\n",
      "2039798\n",
      "2620064\n",
      "2039798\n",
      "2620064\n",
      "2039798\n"
     ]
    }
   ],
   "source": [
    "# Do the job!\n",
    "\n",
    "for lang in ['EN', 'RU', 'FR', 'SP']:\n",
    "    filter_lang_caps(ds_keys_all_and_cc_filter, lang, 'all')"
   ]
  },
  {
   "cell_type": "code",
   "execution_count": null,
   "id": "4ebf19c2-edf4-4f05-b3e5-3f87734d93e1",
   "metadata": {},
   "outputs": [],
   "source": []
  },
  {
   "cell_type": "code",
   "execution_count": null,
   "id": "13c566da-db59-441f-a9bb-45bef1ad09e7",
   "metadata": {},
   "outputs": [],
   "source": []
  }
 ],
 "metadata": {
  "kernelspec": {
   "display_name": "Python 3",
   "language": "python",
   "name": "python3"
  },
  "language_info": {
   "codemirror_mode": {
    "name": "ipython",
    "version": 3
   },
   "file_extension": ".py",
   "mimetype": "text/x-python",
   "name": "python",
   "nbconvert_exporter": "python",
   "pygments_lexer": "ipython3",
   "version": "3.8.10"
  }
 },
 "nbformat": 4,
 "nbformat_minor": 5
}
