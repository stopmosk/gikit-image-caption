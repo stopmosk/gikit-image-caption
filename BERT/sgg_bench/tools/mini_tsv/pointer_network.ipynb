{
 "cells": [
  {
   "cell_type": "code",
   "execution_count": 22,
   "id": "9307bd3a-0a10-4831-8e25-85cb0bdbdc38",
   "metadata": {},
   "outputs": [],
   "source": [
    "import torch\n",
    "import math"
   ]
  },
  {
   "cell_type": "code",
   "execution_count": 4,
   "id": "19b10d43-c665-44fd-88ed-912d8dc33cc2",
   "metadata": {},
   "outputs": [],
   "source": [
    "batch_size = 10\n",
    "\n",
    "tensor1 = torch.randn(batch_size, 5)\n",
    "tensor2 = torch.randn(batch_size, 5)\n",
    "#torch.matmul(tensor1, tensor2).size()"
   ]
  },
  {
   "cell_type": "code",
   "execution_count": 5,
   "id": "fa7b64d5-49c3-48ca-9eb8-efd6fea33c38",
   "metadata": {},
   "outputs": [],
   "source": [
    "query_layer = tensor1\n",
    "key_layer = tensor2\n",
    "\n",
    "scores = torch.matmul(query_layer, key_layer.transpose(-1, -2))"
   ]
  },
  {
   "cell_type": "code",
   "execution_count": 7,
   "id": "910a40ef-f761-4aca-bf35-cf3440cc08f6",
   "metadata": {},
   "outputs": [
    {
     "data": {
      "text/plain": [
       "torch.Size([10, 10])"
      ]
     },
     "execution_count": 7,
     "metadata": {},
     "output_type": "execute_result"
    }
   ],
   "source": [
    "scores.size()"
   ]
  },
  {
   "cell_type": "code",
   "execution_count": 11,
   "id": "47009e10-7f2c-4f80-af41-b804a3cde2ba",
   "metadata": {},
   "outputs": [],
   "source": [
    "class OcrPtrNet(torch.nn.Module):\n",
    "    def __init__(self, hidden_size, query_key_size=None):\n",
    "        super().__init__()\n",
    "\n",
    "        if query_key_size is None:\n",
    "            query_key_size = hidden_size\n",
    "        self.hidden_size = hidden_size\n",
    "        self.query_key_size = query_key_size\n",
    "\n",
    "        self.query = torch.nn.Linear(hidden_size, query_key_size)\n",
    "        self.key = torch.nn.Linear(hidden_size, query_key_size)\n",
    "\n",
    "    def forward(self, query_inputs, key_inputs, attention_mask):\n",
    "        extended_attention_mask = (1.0 - attention_mask) * -10000.0\n",
    "        assert extended_attention_mask.dim() == 2\n",
    "        extended_attention_mask = extended_attention_mask.unsqueeze(1)\n",
    "\n",
    "        query_layer = self.query(query_inputs)\n",
    "        if query_layer.dim() == 2:\n",
    "            query_layer = query_layer.unsqueeze(1)\n",
    "            squeeze_result = True\n",
    "        else:\n",
    "            squeeze_result = False\n",
    "        key_layer = self.key(key_inputs)\n",
    "\n",
    "        scores = torch.matmul(query_layer, key_layer.transpose(-1, -2))\n",
    "        scores = scores / math.sqrt(self.query_key_size)\n",
    "        scores = scores + extended_attention_mask\n",
    "        if squeeze_result:\n",
    "            scores = scores.squeeze(1)\n",
    "\n",
    "        return scores\n"
   ]
  },
  {
   "cell_type": "code",
   "execution_count": 13,
   "id": "7e97b7d6-c40e-4852-9a4d-231d49c98bd2",
   "metadata": {},
   "outputs": [],
   "source": [
    "hidden_size = 10\n",
    "q_k_size = 7\n",
    "\n",
    "ocr_ptr_net = OcrPtrNet(hidden_size=hidden_size, query_key_size=q_k_size)"
   ]
  },
  {
   "cell_type": "code",
   "execution_count": 29,
   "id": "ffe9e787-6a26-40f0-b2e0-fda1866f9f68",
   "metadata": {},
   "outputs": [],
   "source": [
    "\n",
    "q_inputs = torch.randn(batch_size, 15, 10)\n",
    "k_inputs = torch.randn(batch_size, 15, 10)\n",
    "mmt_dec_output = q_inputs\n",
    "mmt_ocr_output = k_inputs\n",
    "ocr_mask = torch.randn(10, 15)\n",
    "\n",
    "dynamic_ocr_scores = ocr_ptr_net(mmt_dec_output, mmt_ocr_output, ocr_mask)"
   ]
  },
  {
   "cell_type": "code",
   "execution_count": 27,
   "id": "4c5334f3-ea91-4851-ad4f-4ae283a1e838",
   "metadata": {},
   "outputs": [
    {
     "data": {
      "text/plain": [
       "torch.Size([10, 15, 15])"
      ]
     },
     "execution_count": 27,
     "metadata": {},
     "output_type": "execute_result"
    }
   ],
   "source": [
    "dynamic_ocr_scores.size()"
   ]
  },
  {
   "cell_type": "code",
   "execution_count": null,
   "id": "7db4b8b5-06d0-4435-9924-9ec6de8776b1",
   "metadata": {},
   "outputs": [],
   "source": []
  }
 ],
 "metadata": {
  "kernelspec": {
   "display_name": "Python 3",
   "language": "python",
   "name": "python3"
  },
  "language_info": {
   "codemirror_mode": {
    "name": "ipython",
    "version": 3
   },
   "file_extension": ".py",
   "mimetype": "text/x-python",
   "name": "python",
   "nbconvert_exporter": "python",
   "pygments_lexer": "ipython3",
   "version": "3.8.10"
  }
 },
 "nbformat": 4,
 "nbformat_minor": 5
}
