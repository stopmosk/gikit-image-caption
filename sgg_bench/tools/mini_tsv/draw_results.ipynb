{
 "cells": [
  {
   "cell_type": "code",
   "execution_count": 1,
   "id": "fb49a27d-6cd5-4c14-b982-6cb7ceaea73a",
   "metadata": {},
   "outputs": [],
   "source": [
    "import os\n",
    "import os.path as op\n",
    "import json\n",
    "import cv2\n",
    "import numpy as np\n",
    "from tqdm import tqdm\n",
    "\n",
    "import numpy as np\n",
    "import matplotlib.pyplot as plt\n",
    "\n",
    "from PIL import Image, ImageDraw, ImageFont"
   ]
  },
  {
   "cell_type": "code",
   "execution_count": 2,
   "id": "72ca6a90-7250-4057-b031-d49570910323",
   "metadata": {},
   "outputs": [
    {
     "data": {
      "text/plain": [
       "'/media/stopmosk/data/huawei/output_dl2/coco_ru_base_xe_3/checkpoint-28-250000/pred.huawei_1000.test.beam5.max20.odlabels.eval.json'"
      ]
     },
     "execution_count": 2,
     "metadata": {},
     "output_type": "execute_result"
    }
   ],
   "source": [
    "root_dir = '/media/stopmosk/data/huawei'\n",
    "\n",
    "img_root = op.join(root_dir, 'datasets_orig/huawei_1000/images')\n",
    "gen_root = op.join(root_dir, 'output_dl2')\n",
    "\n",
    "gen_filename = 'pred.huawei_1000.test.beam5.max20.odlabels.eval.json'  #_coco_format.json'\n",
    "\n",
    "gen_fullpaths = []\n",
    "gen_subroot = op.join('coco_ru_base_xe_3', 'checkpoint-28-250000')\n",
    "\n",
    "#gen_fullpaths.append(op.join(gen_root, 'stock1', gen_filename))\n",
    "#gen_fullpaths.append(op.join(gen_root, 'agg_1cc_10coco_base_xe1', 'checkpoint-3-350000', gen_filename))\n",
    "#gen_fullpaths.append(op.join(gen_root, 'cc_base_xe_2', 'checkpoint-15-200000', gen_filename))\n",
    "#gen_fullpaths.append(op.join(gen_root, 'stage_2_results', gen_filename))\n",
    "#gen_fullpaths.append(op.join(gen_root, 'a100_agg_1', 'checkpoint-24-23000', gen_filename))\n",
    "#gen_fullpaths.append(op.join(gen_root, 'coco140', gen_filename))\n",
    "gen_fullpaths.append(op.join(gen_root, gen_subroot, gen_filename))\n",
    "gen_fullpaths[-1]"
   ]
  },
  {
   "cell_type": "code",
   "execution_count": 2,
   "id": "eb4a61f6-93a1-400d-8311-fdfeb09e5b6d",
   "metadata": {},
   "outputs": [
    {
     "data": {
      "text/plain": [
       "'/hdd2/sergeishutov/imagecaption/CNMT/CNMT/save/eval_my/m4c_textcaps_cnmt/reports/m4c_textcaps_run_test_2021-11-27T01:43:26.json'"
      ]
     },
     "execution_count": 2,
     "metadata": {},
     "output_type": "execute_result"
    }
   ],
   "source": [
    "root_dir = '/hdd2/sergeishutov/imagecaption/CNMT'\n",
    "\n",
    "img_root = op.join(root_dir, 'images')\n",
    "gen_root = op.join(root_dir, 'CNMT/save/eval_my')\n",
    "gen_subroot = 'm4c_textcaps_cnmt/reports'\n",
    "\n",
    "# gen_filename = 'm4c_textcaps_run_test_2021-11-24T15:10:59.json'\n",
    "gen_filename = sorted(os.listdir(op.join(gen_root, gen_subroot)))[-2]  # 'm4c_textcaps_run_test_2021-11-26T18:04:51.json'\n",
    "\n",
    "gen_fullpaths = []\n",
    "\n",
    "gen_fullpaths.append(op.join(gen_root, gen_subroot, gen_filename))\n",
    "gen_fullpaths[-1]\n"
   ]
  },
  {
   "cell_type": "code",
   "execution_count": 3,
   "id": "04a20e30-7581-4bef-992b-7668bee5cff8",
   "metadata": {},
   "outputs": [],
   "source": [
    "res_dicts = []\n",
    "\n",
    "# for gen_fullpath in gen_fullpaths:\n",
    "#     with open(gen_fullpath) as fp:\n",
    "#         res_json = json.load(fp)\n",
    "\n",
    "#     res_dict = {s['image_id']: s['caption'] for s in res_json}\n",
    "#     res_dicts.append(res_dict)\n",
    "#     #key = list(res_dict.keys())[0]\n",
    "#     #res_dict[key]\n",
    "#     # res_dict\n",
    "\n",
    "    \n",
    "for gen_fullpath in gen_fullpaths:\n",
    "    with open(gen_fullpath) as fp:\n",
    "        res_json = json.load(fp)\n",
    " \n",
    "    res_dict = dict()\n",
    "    for el in res_json:\n",
    "        im_id = el['image_id']\n",
    "        ws = el['caption'].split(' ')\n",
    "        ps = el['pred_source']\n",
    "        \n",
    "        words = [w.upper() if w_type == \"OCR\" else w for (w, w_type) in zip(ws, ps)]\n",
    "        sentence = ' '.join(words)   \n",
    "        res_dict[im_id] = sentence\n",
    "\n",
    "    res_dicts.append(res_dict)\n"
   ]
  },
  {
   "cell_type": "code",
   "execution_count": 5,
   "id": "b061fc16-e7dd-4882-a415-9c398df83aba",
   "metadata": {},
   "outputs": [],
   "source": [
    "def try_open(im_fullpath):\n",
    "    for ext in ['', '.jpg', '.jpeg', '.png']:\n",
    "        try:\n",
    "            im = Image.open(im_fullpath + ext)\n",
    "        except:\n",
    "            continue\n",
    "        return im\n",
    "\n",
    "        \n",
    "def show_res(sample_idx, show=True, save=False):\n",
    "    im_filename = sample_idx\n",
    "    im_fullpath = os.path.join(img_root, im_filename)\n",
    "    im = try_open(im_fullpath) \n",
    "    if len(im.split()) > 3:\n",
    "        background = Image.new(\"RGB\", im.size, (255, 255, 255))\n",
    "        background.paste(im, mask=im.split()[3]) # 3 is the alpha channel\n",
    "        im = background\n",
    "    im.thumbnail((600, 400))\n",
    "\n",
    "    plt.figure(figsize=(16,10))\n",
    "    draw = ImageDraw.Draw(im)\n",
    "    unicode_font = ImageFont.truetype(\"DejaVuSansMono.ttf\", 12)\n",
    "    font_yshift = -2\n",
    "\n",
    "    y_shift = 0\n",
    "    colors = [(255,0,0,255), (0,255,0,255), (0,0,255,255), (0,0,128,255), (255,0,255,255), (0,0,0,255)]\n",
    "    for pred_num, res_dict in enumerate(res_dicts):\n",
    "        text_cap = f\"{res_dict[sample_idx]}\"\n",
    "        #print('\\n' + text_cap)\n",
    "\n",
    "        max_str_len = im.width // 7  #6  # max string length in letters\n",
    "        strings_num = len(text_cap) // max_str_len + 1\n",
    "\n",
    "        b_text = [0, y_shift , im.width, y_shift + 12 * strings_num]\n",
    "        try:\n",
    "            draw.rectangle(b_text, fill='red' if pred_num==0 else 'blue')\n",
    "        except:\n",
    "            print(pred_num, colors[pred_num])\n",
    "            exit()\n",
    "\n",
    "        text_cap_chunks = [text_cap[seek: seek + max_str_len] for seek in range(0, len(text_cap), max_str_len)]\n",
    "        for i, chunk in enumerate(text_cap_chunks):\n",
    "            draw.text((0, font_yshift + y_shift + i * 12), chunk, font=unicode_font, stroke_width=1, stroke_fill=255)\n",
    "        y_shift += (i + 1) * 12\n",
    "        \n",
    "    plt.axis('off')\n",
    "    \n",
    "    if show or not save:\n",
    "        plt.imshow(im);\n",
    "    \n",
    "    if save:\n",
    "        plt.savefig(op.join(export_dir, sample_idx), bbox_inches='tight')\n",
    "        plt.close()\n"
   ]
  },
  {
   "cell_type": "code",
   "execution_count": 6,
   "id": "4efde60e-bec0-4013-a5f9-443191c4fab4",
   "metadata": {},
   "outputs": [
    {
     "name": "stderr",
     "output_type": "stream",
     "text": [
      "  7%|██████████▏                                                                                                                                             | 9/135 [00:01<00:24,  5.24it/s]"
     ]
    },
    {
     "name": "stdout",
     "output_type": "stream",
     "text": [
      "0 (255, 0, 0, 255)\n"
     ]
    },
    {
     "name": "stderr",
     "output_type": "stream",
     "text": [
      "100%|██████████████████████████████████████████████████████████████████████████████████████████████████████████████████████████████████████████████████████| 135/135 [00:26<00:00,  5.03it/s]\n"
     ]
    },
    {
     "name": "stdin",
     "output_type": "stream",
     "text": [
      "PRESS F TO FINISH f\n"
     ]
    },
    {
     "data": {
      "text/plain": [
       "'f'"
      ]
     },
     "execution_count": 6,
     "metadata": {},
     "output_type": "execute_result"
    }
   ],
   "source": [
    "%matplotlib inline\n",
    "\n",
    "export_dir = op.join(gen_root, gen_subroot, 'draw_results_huawei1000_ocr_alg3_2') \n",
    "os.makedirs(export_dir, exist_ok=True)\n",
    "\n",
    "for sample_idx in tqdm(list(res_dict.keys())):\n",
    "    show_res(sample_idx, save=True)\n",
    "\n",
    "input('PRESS F TO FINISH')"
   ]
  },
  {
   "cell_type": "code",
   "execution_count": null,
   "id": "02a00081-4097-4928-afea-76015294b571",
   "metadata": {},
   "outputs": [],
   "source": []
  }
 ],
 "metadata": {
  "kernelspec": {
   "display_name": "Python 3 (ipykernel)",
   "language": "python",
   "name": "python3"
  },
  "language_info": {
   "codemirror_mode": {
    "name": "ipython",
    "version": 3
   },
   "file_extension": ".py",
   "mimetype": "text/x-python",
   "name": "python",
   "nbconvert_exporter": "python",
   "pygments_lexer": "ipython3",
   "version": "3.8.12"
  }
 },
 "nbformat": 4,
 "nbformat_minor": 5
}
