{
 "cells": [
  {
   "cell_type": "code",
   "execution_count": 2,
   "id": "fb49a27d-6cd5-4c14-b982-6cb7ceaea73a",
   "metadata": {},
   "outputs": [],
   "source": [
    "import os\n",
    "import os.path as op\n",
    "import json\n",
    "import cv2\n",
    "import numpy as np\n",
    "from tqdm import tqdm\n",
    "\n",
    "import numpy as np\n",
    "import matplotlib.pyplot as plt\n",
    "\n",
    "from PIL import Image, ImageDraw"
   ]
  },
  {
   "cell_type": "code",
   "execution_count": 3,
   "id": "72ca6a90-7250-4057-b031-d49570910323",
   "metadata": {},
   "outputs": [
    {
     "data": {
      "text/plain": [
       "'/media/stopmosk/data/huawei/output_dl2/coco140/pred.huawei_1000.test.beam5.max20.odlabels.eval.json'"
      ]
     },
     "execution_count": 3,
     "metadata": {},
     "output_type": "execute_result"
    }
   ],
   "source": [
    "root_dir = '/media/stopmosk/data/huawei'\n",
    "\n",
    "img_root = op.join(root_dir, 'datasets_orig/huawei_1000/images')\n",
    "gen_root = op.join(root_dir, 'output_dl2')\n",
    "\n",
    "gen_filename = 'pred.huawei_1000.test.beam5.max20.odlabels.eval.json'  #_coco_format.json'\n",
    "\n",
    "gen_fullpaths = []\n",
    "#gen_fullpaths.append(op.join(gen_root, 'stock1', gen_filename))\n",
    "#gen_fullpaths.append(op.join(gen_root, 'agg_1cc_10coco_base_xe1', 'checkpoint-3-350000', gen_filename))\n",
    "#gen_fullpaths.append(op.join(gen_root, 'cc_base_xe_2', 'checkpoint-15-200000', gen_filename))\n",
    "#gen_fullpaths.append(op.join(gen_root, 'stage_2_results', gen_filename))\n",
    "gen_fullpaths.append(op.join(gen_root, 'coco140', gen_filename))\n",
    "#gen_fullpaths.append(op.join(gen_root, 'a100_agg_1', 'checkpoint-24-23000', gen_filename))\n",
    "gen_fullpaths[-1]"
   ]
  },
  {
   "cell_type": "code",
   "execution_count": 4,
   "id": "04a20e30-7581-4bef-992b-7668bee5cff8",
   "metadata": {},
   "outputs": [],
   "source": [
    "res_dicts = []\n",
    "\n",
    "for gen_fullpath in gen_fullpaths:\n",
    "    with open(gen_fullpath) as fp:\n",
    "        res_json = json.load(fp)\n",
    "\n",
    "    res_dict = {s['image_id']: s['caption'] for s in res_json}\n",
    "    res_dicts.append(res_dict)\n",
    "    #key = list(res_dict.keys())[0]\n",
    "    #res_dict[key]\n",
    "    # res_dict\n"
   ]
  },
  {
   "cell_type": "code",
   "execution_count": 7,
   "id": "b061fc16-e7dd-4882-a415-9c398df83aba",
   "metadata": {},
   "outputs": [],
   "source": [
    "def show_res(sample_idx, show=True, save=False):\n",
    "    im_filename = sample_idx\n",
    "    im_fullpath = os.path.join(img_root, im_filename)\n",
    "    im = Image.open(im_fullpath)\n",
    "    im.thumbnail((600, 400))\n",
    "\n",
    "    plt.figure(figsize=(16,10))\n",
    "    draw = ImageDraw.Draw(im)\n",
    "\n",
    "    y_shift = 0\n",
    "    colors = [(255,0,0,255), (0,255,0,255), (0,0,255,255), (0,0,128,255), (255,0,255,255), (0,0,0,255)]\n",
    "    for pred_num, res_dict in enumerate(res_dicts):\n",
    "        text_cap = f\"{res_dict[sample_idx]}\"\n",
    "        #print('\\n' + text_cap)\n",
    "\n",
    "        max_str_len = im.width // 6  # max string length in letters\n",
    "        strings_num = len(text_cap) // max_str_len + 1\n",
    "\n",
    "        b_text = [0, y_shift , im.width, y_shift + 12 * strings_num]\n",
    "        try:\n",
    "            draw.rectangle(b_text, fill='red' if pred_num==0 else 'blue')\n",
    "        except:\n",
    "            print(pred_num, colors[pred_num])\n",
    "            exit()\n",
    "\n",
    "        text_cap_chunks = [text_cap[seek: seek + max_str_len] for seek in range(0, len(text_cap), max_str_len)]\n",
    "        for i, chunk in enumerate(text_cap_chunks):\n",
    "            draw.text((0, y_shift + i * 12), chunk, stroke_width=40, stroke_fill=255)\n",
    "        y_shift += (i + 1) * 12\n",
    "        \n",
    "    plt.axis('off')\n",
    "    \n",
    "    if show:\n",
    "        plt.imshow(im);\n",
    "    \n",
    "    if save:\n",
    "        plt.savefig(op.join(gen_root, 'gen_files_5_140', sample_idx), bbox_inches='tight')\n",
    "        plt.close()\n"
   ]
  },
  {
   "cell_type": "code",
   "execution_count": 8,
   "id": "4efde60e-bec0-4013-a5f9-443191c4fab4",
   "metadata": {},
   "outputs": [
    {
     "name": "stderr",
     "output_type": "stream",
     "text": [
      " 10%|█         | 103/998 [00:14<02:25,  6.17it/s]"
     ]
    },
    {
     "name": "stdout",
     "output_type": "stream",
     "text": [
      "0 (255, 0, 0, 255)\n"
     ]
    },
    {
     "name": "stderr",
     "output_type": "stream",
     "text": [
      " 12%|█▏        | 115/998 [00:16<02:16,  6.46it/s]"
     ]
    },
    {
     "name": "stdout",
     "output_type": "stream",
     "text": [
      "0 (255, 0, 0, 255)\n",
      "0 (255, 0, 0, 255)\n"
     ]
    },
    {
     "name": "stderr",
     "output_type": "stream",
     "text": [
      " 59%|█████▊    | 585/998 [01:25<00:54,  7.52it/s]"
     ]
    },
    {
     "name": "stdout",
     "output_type": "stream",
     "text": [
      "0 (255, 0, 0, 255)\n"
     ]
    },
    {
     "name": "stderr",
     "output_type": "stream",
     "text": [
      " 68%|██████▊   | 680/998 [01:39<00:47,  6.64it/s]"
     ]
    },
    {
     "name": "stdout",
     "output_type": "stream",
     "text": [
      "0 (255, 0, 0, 255)\n"
     ]
    },
    {
     "name": "stderr",
     "output_type": "stream",
     "text": [
      "100%|██████████| 998/998 [02:24<00:00,  6.90it/s]\n"
     ]
    }
   ],
   "source": [
    "%matplotlib inline\n",
    "\n",
    "for sample_idx in tqdm(list(res_dict.keys())[0:]):\n",
    "    show_res(sample_idx, save=True)"
   ]
  },
  {
   "cell_type": "code",
   "execution_count": null,
   "id": "2a0b091b-3ecc-42f1-b4bb-b121341e283b",
   "metadata": {},
   "outputs": [],
   "source": []
  }
 ],
 "metadata": {
  "kernelspec": {
   "display_name": "Python 3",
   "language": "python",
   "name": "python3"
  },
  "language_info": {
   "codemirror_mode": {
    "name": "ipython",
    "version": 3
   },
   "file_extension": ".py",
   "mimetype": "text/x-python",
   "name": "python",
   "nbconvert_exporter": "python",
   "pygments_lexer": "ipython3",
   "version": "3.8.10"
  }
 },
 "nbformat": 4,
 "nbformat_minor": 5
}
