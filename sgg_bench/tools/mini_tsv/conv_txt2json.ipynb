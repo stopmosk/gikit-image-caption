{
 "cells": [
  {
   "cell_type": "code",
   "execution_count": 2,
   "id": "54eb646f-8b6b-44e2-98c7-e754dc4fe46f",
   "metadata": {},
   "outputs": [],
   "source": [
    "import os\n",
    "import os.path as op\n",
    "import json\n",
    "import cv2\n",
    "import base64\n",
    "import numpy as np\n",
    "from tqdm import tqdm\n",
    "\n",
    "import numpy as np\n",
    "import matplotlib.pyplot as plt\n",
    "\n",
    "from PIL import Image, ImageDraw\n",
    "import pandas as pd\n"
   ]
  },
  {
   "cell_type": "code",
   "execution_count": 3,
   "id": "584be7ad-3a22-4176-bcfc-c91cdbc696be",
   "metadata": {},
   "outputs": [
    {
     "data": {
      "text/html": [
       "<div>\n",
       "<style scoped>\n",
       "    .dataframe tbody tr th:only-of-type {\n",
       "        vertical-align: middle;\n",
       "    }\n",
       "\n",
       "    .dataframe tbody tr th {\n",
       "        vertical-align: top;\n",
       "    }\n",
       "\n",
       "    .dataframe thead th {\n",
       "        text-align: right;\n",
       "    }\n",
       "</style>\n",
       "<table border=\"1\" class=\"dataframe\">\n",
       "  <thead>\n",
       "    <tr style=\"text-align: right;\">\n",
       "      <th></th>\n",
       "      <th>image_id</th>\n",
       "      <th>caption</th>\n",
       "    </tr>\n",
       "  </thead>\n",
       "  <tbody>\n",
       "    <tr>\n",
       "      <th>988</th>\n",
       "      <td>989.jpg</td>\n",
       "      <td>A TV</td>\n",
       "    </tr>\n",
       "    <tr>\n",
       "      <th>989</th>\n",
       "      <td>990.jpg</td>\n",
       "      <td>A monkey and other monkeys</td>\n",
       "    </tr>\n",
       "    <tr>\n",
       "      <th>990</th>\n",
       "      <td>991.jpg</td>\n",
       "      <td>A blue and white bus is stopping at the side o...</td>\n",
       "    </tr>\n",
       "    <tr>\n",
       "      <th>991</th>\n",
       "      <td>992.jpg</td>\n",
       "      <td>A sitting baby only wears a diaper</td>\n",
       "    </tr>\n",
       "    <tr>\n",
       "      <th>992</th>\n",
       "      <td>993.jpeg</td>\n",
       "      <td>Blue sky and white clouds</td>\n",
       "    </tr>\n",
       "    <tr>\n",
       "      <th>993</th>\n",
       "      <td>994.jpg</td>\n",
       "      <td>A group of people were partying in the smoke a...</td>\n",
       "    </tr>\n",
       "    <tr>\n",
       "      <th>994</th>\n",
       "      <td>995.jpg</td>\n",
       "      <td>Red and Black Virtual Bull</td>\n",
       "    </tr>\n",
       "    <tr>\n",
       "      <th>995</th>\n",
       "      <td>996.jpg</td>\n",
       "      <td>A green and white bus is running on the road.</td>\n",
       "    </tr>\n",
       "    <tr>\n",
       "      <th>996</th>\n",
       "      <td>997.png</td>\n",
       "      <td>The aircraft cabin</td>\n",
       "    </tr>\n",
       "    <tr>\n",
       "      <th>997</th>\n",
       "      <td>998.jpg</td>\n",
       "      <td>There are many different brands of beer on the...</td>\n",
       "    </tr>\n",
       "  </tbody>\n",
       "</table>\n",
       "</div>"
      ],
      "text/plain": [
       "     image_id                                            caption\n",
       "988   989.jpg                                               A TV\n",
       "989   990.jpg                         A monkey and other monkeys\n",
       "990   991.jpg  A blue and white bus is stopping at the side o...\n",
       "991   992.jpg                 A sitting baby only wears a diaper\n",
       "992  993.jpeg                          Blue sky and white clouds\n",
       "993   994.jpg  A group of people were partying in the smoke a...\n",
       "994   995.jpg                         Red and Black Virtual Bull\n",
       "995   996.jpg      A green and white bus is running on the road.\n",
       "996   997.png                                 The aircraft cabin\n",
       "997   998.jpg  There are many different brands of beer on the..."
      ]
     },
     "execution_count": 3,
     "metadata": {},
     "output_type": "execute_result"
    }
   ],
   "source": [
    "cap_source = '../../../results'\n",
    "\n",
    "df = pd.read_csv(op.join(cap_source, 'ann_1000.txt'), sep=\"|\", header=None)\n",
    "df.columns = ['image_id', 'caption']\n",
    "df.tail(10)"
   ]
  },
  {
   "cell_type": "code",
   "execution_count": 7,
   "id": "9df04fb8-4989-462e-a0e2-2057e6b482a9",
   "metadata": {},
   "outputs": [
    {
     "name": "stdout",
     "output_type": "stream",
     "text": [
      "<class 'list'>\n"
     ]
    },
    {
     "data": {
      "text/plain": [
       "[{'image_id': '1', 'caption': 'Two pieces of raw beef'},\n",
       " {'image_id': '2', 'caption': 'Blue sea, sandy beach and high rock'},\n",
       " {'image_id': '3', 'caption': 'An orange mouse'},\n",
       " {'image_id': '4',\n",
       "  'caption': 'A group of people are playing in the basketball hall'},\n",
       " {'image_id': '5', 'caption': 'Blue sky and white clouds'},\n",
       " {'image_id': '6', 'caption': 'A group of people are having a happy party.'},\n",
       " {'image_id': '7', 'caption': 'Three black bears'},\n",
       " {'image_id': '8', 'caption': '4 ceramic jars and a glass jar'},\n",
       " {'image_id': '9', 'caption': 'A mountain bike'},\n",
       " {'image_id': '10',\n",
       "  'caption': 'A black woman wearing a yellow vest and a clutch bag'}]"
      ]
     },
     "execution_count": 7,
     "metadata": {},
     "output_type": "execute_result"
    }
   ],
   "source": [
    "ann_json = df.to_json(orient='records')\n",
    "ann_json = json.loads(ann_json)\n",
    "print(type(ann_json))\n",
    "\n",
    "ann_json = [{'image_id': ann['image_id'].split('.')[0], 'caption': ann['caption']} for ann in ann_json]\n",
    "ann_json[:10]"
   ]
  },
  {
   "cell_type": "code",
   "execution_count": 8,
   "id": "e8c63ae5-2bf5-4d17-9d2f-a4d80aa15818",
   "metadata": {},
   "outputs": [],
   "source": [
    "with open(op.join(cap_source, 'ann_1000.json'), 'w') as f:\n",
    "    json.dump(ann_json, f)\n",
    "    #f.write(json.dumps(ann_json))"
   ]
  },
  {
   "cell_type": "code",
   "execution_count": null,
   "id": "3d7de176-9406-4455-a70c-c1fd39ac0d67",
   "metadata": {},
   "outputs": [],
   "source": []
  }
 ],
 "metadata": {
  "kernelspec": {
   "display_name": "Python 3",
   "language": "python",
   "name": "python3"
  },
  "language_info": {
   "codemirror_mode": {
    "name": "ipython",
    "version": 3
   },
   "file_extension": ".py",
   "mimetype": "text/x-python",
   "name": "python",
   "nbconvert_exporter": "python",
   "pygments_lexer": "ipython3",
   "version": "3.8.10"
  }
 },
 "nbformat": 4,
 "nbformat_minor": 5
}
