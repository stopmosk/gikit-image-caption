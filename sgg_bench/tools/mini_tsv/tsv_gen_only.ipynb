{
 "cells": [
  {
   "cell_type": "code",
   "execution_count": 1,
   "id": "fb49a27d-6cd5-4c14-b982-6cb7ceaea73a",
   "metadata": {},
   "outputs": [],
   "source": [
    "import os\n",
    "import os.path as op\n",
    "import json\n",
    "import cv2\n",
    "import base64\n",
    "import numpy as np\n",
    "from tqdm import tqdm\n",
    "\n",
    "import numpy as np\n",
    "import matplotlib.pyplot as plt\n",
    "\n",
    "from PIL import Image, ImageDraw\n",
    "\n",
    "from maskrcnn_benchmark.structures.tsv_file_ops import tsv_reader, tsv_writer\n",
    "from maskrcnn_benchmark.structures.tsv_file_ops import generate_linelist_file\n",
    "from maskrcnn_benchmark.structures.tsv_file_ops import generate_hw_file\n",
    "from maskrcnn_benchmark.structures.tsv_file import TSVFile\n",
    "from maskrcnn_benchmark.data.datasets.utils.image_ops import img_from_base64"
   ]
  },
  {
   "cell_type": "code",
   "execution_count": 13,
   "id": "72ca6a90-7250-4057-b031-d49570910323",
   "metadata": {},
   "outputs": [],
   "source": [
    "# orig_root = '../../../../datasets_orig/my'\n",
    "# exp_root = '../../../../datasets_proc/my_nn'\n",
    "\n",
    "orig_root = '../../../../datasets_orig/huawei_1000'\n",
    "exp_root = '../../../../datasets_proc/huawei_1000_nn'"
   ]
  },
  {
   "cell_type": "code",
   "execution_count": 19,
   "id": "d0eeed71-bc67-4f81-b3ea-2c393c9820bc",
   "metadata": {},
   "outputs": [
    {
     "data": {
      "text/plain": [
       "'../../../../datasets_orig/huawei_1000/images/1.jpg'"
      ]
     },
     "execution_count": 19,
     "metadata": {},
     "output_type": "execute_result"
    }
   ],
   "source": [
    "img_list = sorted(os.listdir(op.join(orig_root, 'images')))\n",
    "img_key2path = {img_p.split('.')[0]: op.join(orig_root, 'images', img_p) for img_p in img_list}\n",
    "\n",
    "img_key2path['1']"
   ]
  },
  {
   "cell_type": "code",
   "execution_count": 20,
   "id": "7abbe050-3dd5-47c3-a2bd-4c4a0b07af55",
   "metadata": {},
   "outputs": [
    {
     "name": "stderr",
     "output_type": "stream",
     "text": [
      "100%|██████████| 998/998 [00:40<00:00, 24.42it/s]\n"
     ]
    }
   ],
   "source": [
    "rows, rows_label, rows_hw = [], [], []\n",
    "\n",
    "for img_key, img_path in tqdm(img_key2path.items()):\n",
    "    img = cv2.imread(img_path)\n",
    "    img_encoded_str = base64.b64encode(cv2.imencode('.jpg', img)[1])\n",
    "    row = [img_key, img_encoded_str]\n",
    "    rows.append(row)\n",
    "\n",
    "    height = img.shape[0]\n",
    "    width = img.shape[1]\n",
    "    row_hw = [img_key, json.dumps([{'height': height, 'width': width}])]\n",
    "    rows_hw.append(row_hw)\n",
    "\n",
    "exp_encoded_img_file = op.join(exp_root, 'val.img.tsv')\n",
    "exp_hw_file = op.join(exp_root, 'val.hw.tsv')\n",
    "\n",
    "tsv_writer(rows, exp_encoded_img_file)\n",
    "tsv_writer(rows_hw, exp_hw_file)"
   ]
  },
  {
   "cell_type": "code",
   "execution_count": null,
   "id": "0439a2a5-beb7-4250-b87e-8dd7a78e7d24",
   "metadata": {},
   "outputs": [],
   "source": []
  }
 ],
 "metadata": {
  "kernelspec": {
   "display_name": "Python 3",
   "language": "python",
   "name": "python3"
  },
  "language_info": {
   "codemirror_mode": {
    "name": "ipython",
    "version": 3
   },
   "file_extension": ".py",
   "mimetype": "text/x-python",
   "name": "python",
   "nbconvert_exporter": "python",
   "pygments_lexer": "ipython3",
   "version": "3.8.10"
  }
 },
 "nbformat": 4,
 "nbformat_minor": 5
}
