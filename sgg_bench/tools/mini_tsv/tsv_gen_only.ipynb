{
 "cells": [
  {
   "cell_type": "code",
   "execution_count": 1,
   "id": "fb49a27d-6cd5-4c14-b982-6cb7ceaea73a",
   "metadata": {},
   "outputs": [],
   "source": [
    "import os\n",
    "import os.path as op\n",
    "import json\n",
    "import cv2\n",
    "import base64\n",
    "import numpy as np\n",
    "from tqdm import tqdm\n",
    "\n",
    "import numpy as np\n",
    "import matplotlib.pyplot as plt\n",
    "\n",
    "from PIL import Image, ImageDraw\n",
    "\n",
    "from maskrcnn_benchmark.structures.tsv_file_ops import tsv_reader, tsv_writer\n",
    "from maskrcnn_benchmark.structures.tsv_file_ops import generate_linelist_file\n",
    "from maskrcnn_benchmark.structures.tsv_file_ops import generate_hw_file\n",
    "from maskrcnn_benchmark.structures.tsv_file import TSVFile\n",
    "from maskrcnn_benchmark.data.datasets.utils.image_ops import img_from_base64"
   ]
  },
  {
   "cell_type": "code",
   "execution_count": 2,
   "id": "72ca6a90-7250-4057-b031-d49570910323",
   "metadata": {},
   "outputs": [],
   "source": [
    "orig_root = '/media/stopmosk/data/huawei/datasets/my'\n",
    "exp_root = '/media/stopmosk/data/huawei/datasets/my_encoded'"
   ]
  },
  {
   "cell_type": "code",
   "execution_count": 3,
   "id": "d0eeed71-bc67-4f81-b3ea-2c393c9820bc",
   "metadata": {},
   "outputs": [],
   "source": [
    "img_list = os.listdir(orig_root)"
   ]
  },
  {
   "cell_type": "code",
   "execution_count": 6,
   "id": "7abbe050-3dd5-47c3-a2bd-4c4a0b07af55",
   "metadata": {},
   "outputs": [
    {
     "name": "stdout",
     "output_type": "stream",
     "text": [
      "/media/stopmosk/data/huawei/datasets/my/0001.jpg\n",
      "b'8vP09fb3+Pn6/9oADAMBAAIRAxEAPwD8tfL96ikXPPrWpJY5qpdWfpRU987OczLiSqbNtq7eL3rPkbuKx5SuYFbuKm8z2qunT8ak'\n",
      "/media/stopmosk/data/huawei/datasets/my/0002.jpg\n",
      "b'8vP09fb3+Pn6/9oADAMBAAIRAxEAPwD8vbZrS3CLDO8auqmQyNkb++avaTavd3bLcT+XAMMg3k7/AF47CrOk+FvDl/o8OoeNBe6L'\n",
      "/media/stopmosk/data/huawei/datasets/my/0003.jpg\n",
      "b'8vP09fb3+Pn6/9oADAMBAAIRAxEAPwD1eMf9tKuRxebGn/LOi3ihl/cxQ/8AXKSpo4sf8sdn/bKvoDwwji809P8AWU+Pzoo/3Xye'\n",
      "\n",
      "/media/stopmosk/data/huawei/datasets/my_encoded/val.img.tsv\n"
     ]
    }
   ],
   "source": [
    "rows = []\n",
    "rows_label = []\n",
    "rows_hw = []\n",
    "\n",
    "for img_p in img_list:\n",
    "    img_key = img_p.split('.')[0]\n",
    "    img_path = op.join(orig_root, img_p)\n",
    "    print(img_path)\n",
    "    img = cv2.imread(img_path)\n",
    "    # im_pil = Image.fromarray(img)\n",
    "    # im_pil.show()\n",
    "    # print(cv2.imencode('.jpg', img))\n",
    "    img_encoded_str = base64.b64encode(cv2.imencode('.jpg', img)[1])\n",
    "    row = [img_key, img_encoded_str]\n",
    "    print(row[1][800:900] , flush=True)\n",
    "    rows.append(row)\n",
    "\n",
    "    height = img.shape[0]\n",
    "    width = img.shape[1]\n",
    "    row_hw = [img_key, json.dumps([{'height': height, 'width': width}])]\n",
    "    rows_hw.append(row_hw)\n",
    "\n",
    "exp_encoded_img_file = op.join(exp_root, 'val.img.tsv')\n",
    "exp_hw_file = op.join(exp_root, 'val.hw.tsv')\n",
    "print()\n",
    "print(exp_encoded_img_file, flush=True)\n",
    "tsv_writer(rows, exp_encoded_img_file)\n",
    "tsv_writer(rows_hw, exp_hw_file)"
   ]
  },
  {
   "cell_type": "code",
   "execution_count": null,
   "id": "0439a2a5-beb7-4250-b87e-8dd7a78e7d24",
   "metadata": {},
   "outputs": [],
   "source": []
  }
 ],
 "metadata": {
  "kernelspec": {
   "display_name": "Python 3",
   "language": "python",
   "name": "python3"
  },
  "language_info": {
   "codemirror_mode": {
    "name": "ipython",
    "version": 3
   },
   "file_extension": ".py",
   "mimetype": "text/x-python",
   "name": "python",
   "nbconvert_exporter": "python",
   "pygments_lexer": "ipython3",
   "version": "3.7.10"
  }
 },
 "nbformat": 4,
 "nbformat_minor": 5
}
