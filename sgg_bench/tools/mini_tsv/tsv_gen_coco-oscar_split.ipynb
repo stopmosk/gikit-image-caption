{
 "cells": [
  {
   "cell_type": "code",
   "execution_count": 1,
   "id": "fb49a27d-6cd5-4c14-b982-6cb7ceaea73a",
   "metadata": {},
   "outputs": [],
   "source": [
    "import os\n",
    "import os.path as op\n",
    "import json\n",
    "import cv2\n",
    "import base64\n",
    "import numpy as np\n",
    "from tqdm import tqdm\n",
    "\n",
    "import numpy as np\n",
    "import matplotlib.pyplot as plt\n",
    "\n",
    "from PIL import Image, ImageDraw\n",
    "\n",
    "from maskrcnn_benchmark.structures.tsv_file_ops import tsv_reader, tsv_writer\n",
    "from maskrcnn_benchmark.structures.tsv_file_ops import generate_linelist_file\n",
    "from maskrcnn_benchmark.structures.tsv_file_ops import generate_hw_file\n",
    "from maskrcnn_benchmark.structures.tsv_file import TSVFile\n",
    "from maskrcnn_benchmark.data.datasets.utils.image_ops import img_from_base64"
   ]
  },
  {
   "cell_type": "code",
   "execution_count": 3,
   "id": "72ca6a90-7250-4057-b031-d49570910323",
   "metadata": {},
   "outputs": [],
   "source": [
    "orig_root = '../../../../datasets/coco_2014'\n",
    "img_root = op.join(orig_root, 'images')\n",
    "\n",
    "exp_root = '../../../../datasets/coco_my_mini_nn'\n",
    "\n",
    "splits = ['train', 'val', 'test']"
   ]
  },
  {
   "cell_type": "code",
   "execution_count": 5,
   "id": "5fbb0e59-65cf-4395-8a82-1c9c0c7a8dfe",
   "metadata": {},
   "outputs": [
    {
     "ename": "KeyError",
     "evalue": "'filepath'",
     "output_type": "error",
     "traceback": [
      "\u001b[0;31m---------------------------------------------------------------------------\u001b[0m",
      "\u001b[0;31mKeyError\u001b[0m                                  Traceback (most recent call last)",
      "\u001b[0;32m<ipython-input-5-5635efc07e02>\u001b[0m in \u001b[0;36m<module>\u001b[0;34m\u001b[0m\n\u001b[0;32m----> 1\u001b[0;31m \u001b[0mprint\u001b[0m\u001b[0;34m(\u001b[0m\u001b[0mkarpathy\u001b[0m\u001b[0;34m[\u001b[0m\u001b[0;34m'images'\u001b[0m\u001b[0;34m]\u001b[0m\u001b[0;34m[\u001b[0m\u001b[0;36m555\u001b[0m\u001b[0;34m]\u001b[0m\u001b[0;34m[\u001b[0m\u001b[0;34m'filepath'\u001b[0m\u001b[0;34m]\u001b[0m\u001b[0;34m)\u001b[0m\u001b[0;34m\u001b[0m\u001b[0;34m\u001b[0m\u001b[0m\n\u001b[0m\u001b[1;32m      2\u001b[0m \u001b[0mprint\u001b[0m\u001b[0;34m(\u001b[0m\u001b[0mkarpathy\u001b[0m\u001b[0;34m[\u001b[0m\u001b[0;34m'images'\u001b[0m\u001b[0;34m]\u001b[0m\u001b[0;34m[\u001b[0m\u001b[0;36m555\u001b[0m\u001b[0;34m]\u001b[0m\u001b[0;34m[\u001b[0m\u001b[0;34m'filename'\u001b[0m\u001b[0;34m]\u001b[0m\u001b[0;34m)\u001b[0m\u001b[0;34m\u001b[0m\u001b[0;34m\u001b[0m\u001b[0m\n\u001b[1;32m      3\u001b[0m \u001b[0mprint\u001b[0m\u001b[0;34m(\u001b[0m\u001b[0mkarpathy\u001b[0m\u001b[0;34m[\u001b[0m\u001b[0;34m'images'\u001b[0m\u001b[0;34m]\u001b[0m\u001b[0;34m[\u001b[0m\u001b[0;36m555\u001b[0m\u001b[0;34m]\u001b[0m\u001b[0;34m[\u001b[0m\u001b[0;34m'cocoid'\u001b[0m\u001b[0;34m]\u001b[0m\u001b[0;34m)\u001b[0m\u001b[0;34m\u001b[0m\u001b[0;34m\u001b[0m\u001b[0m\n",
      "\u001b[0;31mKeyError\u001b[0m: 'filepath'"
     ]
    }
   ],
   "source": [
    "print(karpathy['images'][555]['filepath'])\n",
    "print(karpathy['images'][555]['filename'])\n",
    "print(karpathy['images'][555]['cocoid'])"
   ]
  },
  {
   "cell_type": "code",
   "execution_count": 5,
   "id": "c6368a3b-148b-4196-a8b0-6352da65a95a",
   "metadata": {},
   "outputs": [
    {
     "data": {
      "text/plain": [
       "'val2014/COCO_val2014_000000382088.jpg'"
      ]
     },
     "execution_count": 5,
     "metadata": {},
     "output_type": "execute_result"
    }
   ],
   "source": [
    "karpathy_dict = {str(k['cocoid']): op.join(k['filepath'], k['filename']) for k in karpathy['images']}\n",
    "\n",
    "karpathy_dict['382088']"
   ]
  },
  {
   "cell_type": "code",
   "execution_count": 6,
   "id": "faa77e8d-b58f-40b4-baea-5943d70198dd",
   "metadata": {},
   "outputs": [
    {
     "data": {
      "text/plain": [
       "(123287, 123287)"
      ]
     },
     "execution_count": 6,
     "metadata": {},
     "output_type": "execute_result"
    }
   ],
   "source": [
    "len(karpathy['images']), len(karpathy_dict)  # must be equal"
   ]
  },
  {
   "cell_type": "code",
   "execution_count": 8,
   "id": "8073bb9d-eff6-4152-8464-8eea6aee7ddb",
   "metadata": {},
   "outputs": [],
   "source": [
    "cap_source = '../../../../datasets/coco/coco_oscar_preexacted_vvl'\n",
    "captions = {}\n",
    "\n",
    "for split in splits:\n",
    "    with open(op.join(cap_source, f'{split}_caption.json')) as f:\n",
    "        captions[split] = json.load(f)"
   ]
  },
  {
   "cell_type": "code",
   "execution_count": 9,
   "id": "8281f467-db2f-4e49-afb1-705a90102e3f",
   "metadata": {},
   "outputs": [
    {
     "name": "stdout",
     "output_type": "stream",
     "text": [
      "{'image_id': '179765', 'id': 38, 'caption': 'A black Honda motorcycle parked in front of a garage.'}\n"
     ]
    }
   ],
   "source": [
    "print(captions['test'][0])"
   ]
  },
  {
   "cell_type": "code",
   "execution_count": 10,
   "id": "39f9505d-75e6-4564-a4f2-41e015e34d5e",
   "metadata": {},
   "outputs": [
    {
     "name": "stderr",
     "output_type": "stream",
     "text": [
      "100%|██████████| 566747/566747 [00:00<00:00, 1985489.31it/s]\n",
      "100%|██████████| 25010/25010 [00:00<00:00, 2013620.18it/s]\n",
      "100%|██████████| 25010/25010 [00:00<00:00, 2010301.51it/s]"
     ]
    },
    {
     "name": "stdout",
     "output_type": "stream",
     "text": [
      "318556 {'image_id': '318556', 'id': 48, 'caption': 'A very clean and well decorated empty bathroom'}\n",
      "[113287, 5000, 5000]\n"
     ]
    },
    {
     "name": "stderr",
     "output_type": "stream",
     "text": [
      "\n"
     ]
    }
   ],
   "source": [
    "img_list = {split: {} for split in splits}\n",
    "\n",
    "for split in splits:\n",
    "    for sample in tqdm(captions[split]):\n",
    "        img_key = sample['image_id']\n",
    "        img_fullpath = karpathy_dict[img_key]\n",
    "        if img_key not in img_list[split]:\n",
    "            img_list[split][img_key] = img_fullpath\n",
    "        else:\n",
    "            if img_list[split][img_key] != img_fullpath:\n",
    "                print('Error!')\n",
    "                \n",
    "print(list(img_list['train'])[0], captions['train'][0])  # sample\n",
    "print([len(img_list[split]) for split in splits])  # train, val, test"
   ]
  },
  {
   "cell_type": "code",
   "execution_count": 39,
   "id": "7abbe050-3dd5-47c3-a2bd-4c4a0b07af55",
   "metadata": {},
   "outputs": [
    {
     "name": "stderr",
     "output_type": "stream",
     "text": [
      "  1%|          | 49/5000 [00:01<02:51, 28.82it/s]\n",
      "  1%|          | 49/5000 [00:01<02:19, 35.52it/s]\n",
      "  0%|          | 49/113287 [00:00<34:19, 54.98it/s]\n"
     ]
    }
   ],
   "source": [
    "for split in splits[::-1]:\n",
    "    rows = []\n",
    "    rows_label = []\n",
    "    rows_hw = []\n",
    "\n",
    "    i = 50\n",
    "    for sample in tqdm(img_list[split].items()):\n",
    "        # print(sample)\n",
    "        img_key = sample[0]\n",
    "        img_path = op.join(img_root, sample[1])\n",
    "        img = cv2.imread(img_path)\n",
    "        img_encoded_str = base64.b64encode(cv2.imencode('.jpg', img)[1])\n",
    "        row = (img_key, img_encoded_str)\n",
    "        # print(row[1][800:900] , flush=True)\n",
    "        rows.append(row)\n",
    "\n",
    "        height = img.shape[0]\n",
    "        width = img.shape[1]\n",
    "        row_hw = [img_key, json.dumps([{'width': width, 'height': height}])]\n",
    "        rows_hw.append(row_hw)\n",
    "        i -= 1\n",
    "        if i == 0:\n",
    "            break\n",
    "        \n",
    "    exp_encoded_img_file = op.join(exp_root, f'{split}.img.tsv')\n",
    "    exp_hw_file = op.join(exp_root, f'{split}.hw.tsv')\n",
    "    tsv_writer(rows, exp_encoded_img_file)\n",
    "    tsv_writer(rows_hw, exp_hw_file)\n",
    "    # tsv_writer(rows_label, label_file)"
   ]
  },
  {
   "cell_type": "code",
   "execution_count": null,
   "id": "1ebab87f-8909-4a92-b893-0bcdf94b5ed2",
   "metadata": {},
   "outputs": [],
   "source": []
  }
 ],
 "metadata": {
  "kernelspec": {
   "display_name": "Python 3",
   "language": "python",
   "name": "python3"
  },
  "language_info": {
   "codemirror_mode": {
    "name": "ipython",
    "version": 3
   },
   "file_extension": ".py",
   "mimetype": "text/x-python",
   "name": "python",
   "nbconvert_exporter": "python",
   "pygments_lexer": "ipython3",
   "version": "3.8.10"
  }
 },
 "nbformat": 4,
 "nbformat_minor": 5
}
