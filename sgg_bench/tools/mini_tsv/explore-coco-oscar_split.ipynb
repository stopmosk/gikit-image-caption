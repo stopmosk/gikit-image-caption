{
 "cells": [
  {
   "cell_type": "code",
   "execution_count": 2,
   "id": "fb49a27d-6cd5-4c14-b982-6cb7ceaea73a",
   "metadata": {},
   "outputs": [],
   "source": [
    "import os\n",
    "import os.path as op\n",
    "import json\n",
    "import cv2\n",
    "import base64\n",
    "import numpy as np\n",
    "from tqdm import tqdm\n",
    "import seaborn as sns\n",
    "\n",
    "import numpy as np\n",
    "import matplotlib.pyplot as plt\n",
    "\n",
    "from PIL import Image, ImageDraw\n",
    "\n",
    "from maskrcnn_benchmark.structures.tsv_file_ops import tsv_reader, tsv_writer\n",
    "from maskrcnn_benchmark.structures.tsv_file_ops import generate_linelist_file\n",
    "from maskrcnn_benchmark.structures.tsv_file_ops import generate_hw_file\n",
    "from maskrcnn_benchmark.structures.tsv_file import TSVFile\n",
    "from maskrcnn_benchmark.data.datasets.utils.image_ops import img_from_base64"
   ]
  },
  {
   "cell_type": "code",
   "execution_count": 3,
   "id": "042baf19-031c-4ba0-ad5f-9b30588ed3aa",
   "metadata": {},
   "outputs": [
    {
     "name": "stderr",
     "output_type": "stream",
     "text": [
      "113287it [06:50, 275.84it/s]\n"
     ]
    }
   ],
   "source": [
    "orig_root = '../../../../datasets/coco/coco_oscar_preexacted_vvl'\n",
    "tsv_feature_filename = op.join(orig_root, 'train.feature.tsv')\n",
    "feat_imgkeys = []\n",
    "nboxes_all = []\n",
    "for line in tqdm(tsv_reader(tsv_feature_filename)):\n",
    "    feat_imgkeys.append(line[0])\n",
    "    props = json.loads(line[1])\n",
    "    nboxes_all.append(props['num_boxes'])\n",
    "    #break\n",
    "\n",
    "# 113287 it, time: 05:33"
   ]
  },
  {
   "cell_type": "code",
   "execution_count": 4,
   "id": "15af8439-c8f5-4b18-99d2-8673fc34538c",
   "metadata": {},
   "outputs": [],
   "source": [
    "nboxes_all = np.array(nboxes_all)"
   ]
  },
  {
   "cell_type": "code",
   "execution_count": 5,
   "id": "d278f6f7-f32d-42ec-a597-23b3c14c3d90",
   "metadata": {},
   "outputs": [
    {
     "name": "stderr",
     "output_type": "stream",
     "text": [
      "/hdd/anaconda3/envs/pt171cu101/lib/python3.8/site-packages/seaborn/distributions.py:2557: FutureWarning: `distplot` is a deprecated function and will be removed in a future version. Please adapt your code to use either `displot` (a figure-level function with similar flexibility) or `histplot` (an axes-level function for histograms).\n",
      "  warnings.warn(msg, FutureWarning)\n"
     ]
    },
    {
     "data": {
      "image/png": "[encoded data removed]",
      "text/plain": [
       "<Figure size 576x576 with 1 Axes>"
      ]
     },
     "metadata": {
      "needs_background": "light"
     },
     "output_type": "display_data"
    }
   ],
   "source": [
    "plt.figure(figsize=(8,8))\n",
    "# plt.hist(nboxes_all, bins=500);\n",
    "sns.distplot(nboxes_all);"
   ]
  },
  {
   "cell_type": "code",
   "execution_count": 6,
   "id": "84042f4c-c2ab-414d-abb3-648b58d4b77e",
   "metadata": {},
   "outputs": [
    {
     "name": "stdout",
     "output_type": "stream",
     "text": [
      "Min boxes: 10\n",
      "Max boxes: 100\n",
      "Mean boxes: 38.622489782587586\n"
     ]
    }
   ],
   "source": [
    "print('Min boxes:', nboxes_all.min())\n",
    "print('Max boxes:', nboxes_all.max())\n",
    "print('Mean boxes:', nboxes_all.mean())"
   ]
  },
  {
   "cell_type": "code",
   "execution_count": 16,
   "id": "0d482c50-eb51-4dc9-b5b9-29b40fb9f832",
   "metadata": {},
   "outputs": [
    {
     "data": {
      "text/plain": [
       "[37, 38, 37, 50, 30]"
      ]
     },
     "execution_count": 16,
     "metadata": {},
     "output_type": "execute_result"
    }
   ],
   "source": [
    "# feat_imgkeys_ar = np.array(feat_imgkeys)\n",
    "feat_dict = {img_key: nboxes_all[i] for i, img_key in enumerate(feat_imgkeys)}\n",
    "\n",
    "ids = [318556, 116100, 379340, 134754, 538480]\n",
    "num_boxes_ids = [feat_dict[str(i)] for i in ids]\n",
    "num_boxes_ids"
   ]
  },
  {
   "cell_type": "code",
   "execution_count": 8,
   "id": "1181a994-b1e3-40be-b0d9-6f5ea5a44eab",
   "metadata": {},
   "outputs": [],
   "source": [
    "# a[0] = img_key\n",
    "# a[1] = json string\n",
    "# = json.loads(a[1])\n",
    "#j['num_boxes']"
   ]
  },
  {
   "cell_type": "code",
   "execution_count": 9,
   "id": "4efde60e-bec0-4013-a5f9-443191c4fab4",
   "metadata": {},
   "outputs": [
    {
     "name": "stderr",
     "output_type": "stream",
     "text": [
      "113287it [00:06, 17246.18it/s]\n"
     ]
    }
   ],
   "source": [
    "tsv_label_filename = op.join(orig_root, 'train.label.tsv')\n",
    "label_imgkeys = []\n",
    "label_props = []\n",
    "for line in tqdm(tsv_reader(tsv_label_filename)):\n",
    "    label_imgkeys.append(line[0])\n",
    "    props = json.loads(line[1])\n",
    "    label_props.append(props)\n",
    "    #break\n",
    "# props"
   ]
  },
  {
   "cell_type": "code",
   "execution_count": 10,
   "id": "23148fae-22b7-4a90-8153-8cd2aebb7a99",
   "metadata": {},
   "outputs": [
    {
     "name": "stderr",
     "output_type": "stream",
     "text": [
      "113287it [00:00, 2967543.62it/s]\n"
     ]
    }
   ],
   "source": [
    "for key_f, key_l in tqdm(zip(feat_imgkeys, label_imgkeys)):\n",
    "    if key_f != key_l:\n",
    "        print('WOW, SHIT!')\n"
   ]
  },
  {
   "cell_type": "code",
   "execution_count": 11,
   "id": "a3a5afc3-590b-496a-85f3-c04be79a8b67",
   "metadata": {},
   "outputs": [],
   "source": [
    "for img_props in label_props:\n",
    "    conf = 1.0\n",
    "    for box in img_props:\n",
    "        if box['conf'] > conf and box['conf'] < 1:\n",
    "            print('HOLY SHIT!')\n",
    "            # print(box)\n",
    "        else:\n",
    "            conf = box['conf']\n",
    "\n",
    "# Class 'Animal' + 'Shellfish' - confs > 1 !!! (1.84, 1.93, 1.14, 1.99)\n",
    "# В остальном конфиденс скоры строго убывают"
   ]
  },
  {
   "cell_type": "code",
   "execution_count": 12,
   "id": "8ddff1d1-07cd-4b42-b67e-5c3c8ed1a73f",
   "metadata": {},
   "outputs": [
    {
     "name": "stdout",
     "output_type": "stream",
     "text": [
      "522418 28\n"
     ]
    }
   ],
   "source": [
    "print(feat_imgkeys[0], nboxes_all[0])"
   ]
  },
  {
   "cell_type": "code",
   "execution_count": 13,
   "id": "d2dba6a8-1784-4b75-864a-8898ee11c3bd",
   "metadata": {},
   "outputs": [],
   "source": [
    "props_len_all = [len(props) for props in label_props]\n",
    "props_len_all = np.array(props_len_all)"
   ]
  },
  {
   "cell_type": "code",
   "execution_count": 16,
   "id": "b8875bc2-23d0-488c-afd0-d78ced757852",
   "metadata": {},
   "outputs": [
    {
     "name": "stderr",
     "output_type": "stream",
     "text": [
      "/hdd/anaconda3/envs/pt171cu101/lib/python3.8/site-packages/seaborn/distributions.py:2557: FutureWarning: `distplot` is a deprecated function and will be removed in a future version. Please adapt your code to use either `displot` (a figure-level function with similar flexibility) or `histplot` (an axes-level function for histograms).\n",
      "  warnings.warn(msg, FutureWarning)\n"
     ]
    },
    {
     "data": {
      "image/png": "[encoded data removed]",
      "text/plain": [
       "<Figure size 576x576 with 1 Axes>"
      ]
     },
     "metadata": {
      "needs_background": "light"
     },
     "output_type": "display_data"
    }
   ],
   "source": [
    "plt.figure(figsize=(8,8))\n",
    "#plt.hist(props_len_all, bins=500);\n",
    "sns.distplot(props_len_all);"
   ]
  },
  {
   "cell_type": "code",
   "execution_count": 17,
   "id": "85621e3f-f2b4-4f3b-978d-ac2cf0c41508",
   "metadata": {},
   "outputs": [
    {
     "name": "stdout",
     "output_type": "stream",
     "text": [
      "Min objects: 0\n",
      "Max objects: 270\n",
      "Mean objects: 18.044859516096288\n"
     ]
    }
   ],
   "source": [
    "print('Min objects:', props_len_all.min())\n",
    "print('Max objects:', props_len_all.max())\n",
    "print('Mean objects:', props_len_all.mean())"
   ]
  },
  {
   "cell_type": "code",
   "execution_count": null,
   "id": "59bd419f-420f-4cd8-a180-d607018b9f37",
   "metadata": {},
   "outputs": [],
   "source": []
  }
 ],
 "metadata": {
  "kernelspec": {
   "display_name": "Python 3",
   "language": "python",
   "name": "python3"
  },
  "language_info": {
   "codemirror_mode": {
    "name": "ipython",
    "version": 3
   },
   "file_extension": ".py",
   "mimetype": "text/x-python",
   "name": "python",
   "nbconvert_exporter": "python",
   "pygments_lexer": "ipython3",
   "version": "3.8.10"
  }
 },
 "nbformat": 4,
 "nbformat_minor": 5
}
