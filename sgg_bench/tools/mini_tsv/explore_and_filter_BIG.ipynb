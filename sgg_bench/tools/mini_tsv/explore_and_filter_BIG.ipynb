{
 "cells": [
  {
   "cell_type": "code",
   "execution_count": 1,
   "id": "fb49a27d-6cd5-4c14-b982-6cb7ceaea73a",
   "metadata": {},
   "outputs": [],
   "source": [
    "import os\n",
    "import os.path as op\n",
    "import json\n",
    "import cv2\n",
    "import base64\n",
    "import random\n",
    "import numpy as np\n",
    "from tqdm import tqdm\n",
    "\n",
    "import numpy as np\n",
    "import matplotlib.pyplot as plt\n",
    "import seaborn as sns\n",
    "\n",
    "\n",
    "from PIL import Image, ImageDraw\n",
    "\n",
    "from maskrcnn_benchmark.structures.tsv_file import TSVFile"
   ]
  },
  {
   "cell_type": "code",
   "execution_count": 2,
   "id": "72ca6a90-7250-4057-b031-d49570910323",
   "metadata": {},
   "outputs": [],
   "source": [
    "orig_root = '/media/stopmosk/data/huawei/datasets_orig/BIG'\n",
    "# exp_root = '../../../../datasets_proc/big_nn_nms1'"
   ]
  },
  {
   "cell_type": "code",
   "execution_count": 3,
   "id": "bdd8129f-db2d-477a-b6fa-ccd8999759ac",
   "metadata": {},
   "outputs": [
    {
     "data": {
      "text/plain": [
       "2620065"
      ]
     },
     "execution_count": 3,
     "metadata": {},
     "output_type": "execute_result"
    }
   ],
   "source": [
    "with open(op.join(orig_root, 'Final_EN.json')) as f:\n",
    "    dataset_captions = json.load(f)\n",
    "\n",
    "dataset_captions = dataset_captions['annotations']\n",
    "len(dataset_captions)"
   ]
  },
  {
   "cell_type": "code",
   "execution_count": 4,
   "id": "dbe9eee0-e616-4758-8724-e9e2cd23af80",
   "metadata": {},
   "outputs": [
    {
     "data": {
      "text/plain": [
       "{'file_name': 'a1650e00b6261e99a6bbe6fe13919302.jpg',\n",
       " 'caption': 'author : a life in photography -- in pictures',\n",
       " 'category_id': -1}"
      ]
     },
     "execution_count": 4,
     "metadata": {},
     "output_type": "execute_result"
    }
   ],
   "source": [
    "dataset_captions[0]"
   ]
  },
  {
   "cell_type": "code",
   "execution_count": 5,
   "id": "26c6af9f-60a9-429c-b8f2-d204fd508133",
   "metadata": {},
   "outputs": [],
   "source": [
    "sorted_caps = sorted(dataset_captions, key=lambda x: x['caption'])\n",
    "\n",
    "only_captions = [s['caption'] for s in dataset_captions]\n",
    "only_captions.sort()\n",
    "only_captions[120000]"
   ]
  },
  {
   "cell_type": "code",
   "execution_count": null,
   "id": "7a6eaf39-4e93-4941-8edb-4dfc41dd22c5",
   "metadata": {},
   "outputs": [],
   "source": []
  },
  {
   "cell_type": "code",
   "execution_count": null,
   "id": "fd4fb062-9b3b-4da5-9bdd-95600cfd7222",
   "metadata": {},
   "outputs": [],
   "source": [
    "# Sample images \n",
    "\n",
    "plt.figure(figsize=(8, 8))\n",
    "for i in range(25):\n",
    "    plt.subplot(5, 5, i+1)\n",
    "    plt.xticks([])\n",
    "    plt.yticks([])\n",
    "    plt.imshow(np.clip(train_data[i], 0, 1))\n",
    "    plt.xlabel('plane' if train_labels[i] else 'bird')\n",
    "plt.show()"
   ]
  },
  {
   "cell_type": "code",
   "execution_count": null,
   "id": "fe7e74d1-5ca6-4acb-8325-224ee0390d7c",
   "metadata": {},
   "outputs": [],
   "source": []
  },
  {
   "cell_type": "code",
   "execution_count": null,
   "id": "591e67ed-b39f-4f21-b24a-1ea3c9d2c424",
   "metadata": {},
   "outputs": [],
   "source": []
  },
  {
   "cell_type": "code",
   "execution_count": null,
   "id": "6b98e956-5578-4ea3-9e1b-a72a8794e572",
   "metadata": {},
   "outputs": [],
   "source": []
  },
  {
   "cell_type": "code",
   "execution_count": null,
   "id": "5fc416f7-1477-4c63-a9dd-fc4f47fe4179",
   "metadata": {},
   "outputs": [],
   "source": []
  },
  {
   "cell_type": "code",
   "execution_count": 41,
   "id": "c859fece-124a-4522-8496-7650740feffc",
   "metadata": {},
   "outputs": [],
   "source": [
    "START = 1\n",
    "END = 2\n",
    "ANY = 3\n",
    "TOEND = 4  # Find first and replace to end  \n",
    "# string \"table -- stock photo...\" with rule (TOEND, ' -- stock', '') gets \"table\"\n",
    "\n",
    "rules = [\n",
    "    (START, ' Chefs ', 'Dicks '),\n",
    "    (START, '22', None),\n",
    "    (TOEND, '- stock photo', '')\n",
    "]"
   ]
  },
  {
   "cell_type": "code",
   "execution_count": null,
   "id": "ef37d40e-f986-4077-8834-0c1c95b7918c",
   "metadata": {},
   "outputs": [],
   "source": [
    "strings = get_from_file('capss.txt')\n",
    "rules = []\n",
    "\n",
    "\n",
    "def parse_raw(raw_str):\n",
    "    sub_s, rep_s, tmp_s = None, None, None\n",
    "    rule_type = START\n",
    "\n",
    "    i = 0\n",
    "    is_text = True\n",
    "    accum = ''\n",
    "    while True:\n",
    "        c = raw_str[i]\n",
    "        \n",
    "        if is_text:\n",
    "            if c == opener:\n",
    "                is_text = False\n",
    "                tmp_s = accum\n",
    "                accum = ''\n",
    "            else:\n",
    "                accum += c\n",
    "            i += 1\n",
    "            continue\n",
    "\n",
    "        # else we're in ctrl_mode\n",
    "        if c == \"'\" or c == '\"':\n",
    "            opener = c\n",
    "            is_text = True\n",
    "        elif c == '-':\n",
    "            if raw_str[i: i+3] != '-->':\n",
    "                print('ERROR':, raw_str)\n",
    "                exit\n",
    "            sub_s = tmp_s\n",
    "            i += 3            \n",
    "            continue\n",
    "        elif c == ' ':\n",
    "            pass            \n",
    "        elif c == 'e':\n",
    "            rule_type = END\n",
    "        elif c == 'a':\n",
    "            rule_type = ANY            \n",
    "        elif c == 't':\n",
    "            rule_type = TOEND        \n",
    "        else:\n",
    "            print(raw_str, c)\n",
    "            \n",
    "        i += 1\n",
    "        if i == len(raw_str):\n",
    "            # some finish process\n",
    "            if sub_s is None:\n",
    "                sub_s = tmp_s\n",
    "            else:\n",
    "                rep_s = tmp_s            \n",
    "            break\n",
    "            \n",
    "    return rule_type, sub_s, rep_s\n",
    "\n",
    "\n",
    "for raw_rule in strings:\n",
    "    rule = parse_raw(raw_rule)\n",
    "    rules.append(rule)\n"
   ]
  },
  {
   "cell_type": "code",
   "execution_count": 42,
   "id": "c4d53da4-6e86-4718-9718-32ccfafdf816",
   "metadata": {},
   "outputs": [
    {
     "name": "stderr",
     "output_type": "stream",
     "text": [
      "100%|██████████| 2620065/2620065 [00:03<00:00, 674386.70it/s]"
     ]
    },
    {
     "name": "stdout",
     "output_type": "stream",
     "text": [
      "4495\n"
     ]
    },
    {
     "name": "stderr",
     "output_type": "stream",
     "text": [
      "\n"
     ]
    }
   ],
   "source": [
    "def apply_rules(caption, rules):\n",
    "    # One by one apply rules, repeat until [del] or [same str (no changes)]\n",
    "    curr_caption = caption\n",
    "    while True:\n",
    "        temp_caption = curr_caption\n",
    "\n",
    "        for (where, sub_str, replace_str) in rules:\n",
    "            if not ((where == START and curr_caption.startswith(sub_str))\n",
    "                    or (where == END and curr_caption.endswith(sub_str)) \n",
    "                    or (where == ANY and sub_str in curr_caption)\n",
    "                    or (where == TOEND and sub_str in curr_caption)):\n",
    "                continue\n",
    "                            \n",
    "            # if we have to delete this caption\n",
    "            if replace_str is None:\n",
    "                    return None\n",
    "\n",
    "            # else we should replace substring\n",
    "            if where == START:\n",
    "                curr_caption = curr_caption.replace(sub_str, replace_str, 1)\n",
    "            elif where == END:\n",
    "                c_len, s_len = len(curr_caption), len(sub_str)\n",
    "                curr_caption = curr_caption[:c_len - s_len] + replace_str\n",
    "            elif where == TOEND:\n",
    "                curr_caption = curr_caption[0: curr_caption.find(sub_str)] + replace_str\n",
    "            elif where == ANY:\n",
    "                curr_caption = curr_caption.replace(sub_str, replace_str)\n",
    "            else:\n",
    "                raise RuntimeError('Unknown rule')\n",
    "            \n",
    "        if curr_caption == temp_caption:\n",
    "            return curr_caption\n",
    "\n",
    "filtered_captions = []\n",
    "\n",
    "for el in tqdm(sorted_caps):\n",
    "    cap = el['caption']\n",
    "    new_cap = apply_rules(cap, rules)\n",
    "    if new_cap is None:\n",
    "        continue\n",
    "    new_el = el.copy()\n",
    "    new_el['caption'] = new_cap\n",
    "    filtered_captions.append(new_el)\n",
    "\n",
    "diff = len(sorted_caps) - len(filtered_captions)\n",
    "print(diff)"
   ]
  },
  {
   "cell_type": "code",
   "execution_count": null,
   "id": "35e51e90-a10f-42e3-b980-8faf153acfb2",
   "metadata": {},
   "outputs": [],
   "source": []
  },
  {
   "cell_type": "code",
   "execution_count": null,
   "id": "8276091b-0ef5-4ea2-b9c5-523e419563a6",
   "metadata": {},
   "outputs": [],
   "source": []
  },
  {
   "cell_type": "code",
   "execution_count": null,
   "id": "e641cccc-25c3-4f24-82f8-cfaf1cdfbe91",
   "metadata": {},
   "outputs": [],
   "source": []
  },
  {
   "cell_type": "code",
   "execution_count": 7,
   "id": "a1df946b-245c-440a-a168-cc942661c91d",
   "metadata": {},
   "outputs": [],
   "source": []
  },
  {
   "cell_type": "code",
   "execution_count": null,
   "id": "75efdb37-9a1b-4503-aadc-47f4f93daa68",
   "metadata": {},
   "outputs": [],
   "source": []
  },
  {
   "cell_type": "code",
   "execution_count": 65,
   "id": "2a68f71f-d880-4937-b2fb-0e9d8391ef41",
   "metadata": {},
   "outputs": [],
   "source": [
    "with open('../../../../caps.txt', 'w') as fp:\n",
    "    for cap in only_captions:\n",
    "        fp.write(cap + '\\n')"
   ]
  },
  {
   "cell_type": "code",
   "execution_count": null,
   "id": "41147361-74f2-4d78-94e6-322e8c0c085d",
   "metadata": {},
   "outputs": [],
   "source": []
  },
  {
   "cell_type": "code",
   "execution_count": null,
   "id": "36dc9f74-e7a3-441f-94d7-d9205406700d",
   "metadata": {},
   "outputs": [],
   "source": []
  },
  {
   "cell_type": "code",
   "execution_count": null,
   "id": "13c566da-db59-441f-a9bb-45bef1ad09e7",
   "metadata": {},
   "outputs": [],
   "source": []
  }
 ],
 "metadata": {
  "kernelspec": {
   "display_name": "Python 3",
   "language": "python",
   "name": "python3"
  },
  "language_info": {
   "codemirror_mode": {
    "name": "ipython",
    "version": 3
   },
   "file_extension": ".py",
   "mimetype": "text/x-python",
   "name": "python",
   "nbconvert_exporter": "python",
   "pygments_lexer": "ipython3",
   "version": "3.8.10"
  }
 },
 "nbformat": 4,
 "nbformat_minor": 5
}
