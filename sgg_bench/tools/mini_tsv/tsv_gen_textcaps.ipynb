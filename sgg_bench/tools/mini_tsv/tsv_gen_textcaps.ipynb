{
 "cells": [
  {
   "cell_type": "code",
   "execution_count": 1,
   "id": "fb49a27d-6cd5-4c14-b982-6cb7ceaea73a",
   "metadata": {},
   "outputs": [],
   "source": [
    "import os\n",
    "import os.path as op\n",
    "import json\n",
    "import cv2\n",
    "import base64\n",
    "import numpy as np\n",
    "from tqdm import tqdm\n",
    "\n",
    "from maskrcnn_benchmark.structures.tsv_file_ops import tsv_reader, tsv_writer\n",
    "from maskrcnn_benchmark.structures.tsv_file_ops import generate_linelist_file\n",
    "from maskrcnn_benchmark.structures.tsv_file_ops import generate_hw_file\n",
    "from maskrcnn_benchmark.structures.tsv_file import TSVFile\n",
    "from maskrcnn_benchmark.data.datasets.utils.image_ops import img_from_base64"
   ]
  },
  {
   "cell_type": "code",
   "execution_count": 4,
   "id": "72ca6a90-7250-4057-b031-d49570910323",
   "metadata": {},
   "outputs": [],
   "source": [
    "orig_root = '/media/stopmosk/data/huawei/datasets_orig/textcaps_orig'\n",
    "\n",
    "orig_img_train_val_dir = op.join(orig_root, 'train_images')  # Contains train & val images\n",
    "orig_img_test_dir = op.join(orig_root, 'test_images')\n",
    "\n",
    "orig_cap_filenames = {split: f'TextCaps_0.1_{split}.json' for split in ['train', 'val', 'test']}\n",
    "\n",
    "exp_root = '/media/stopmosk/data/huawei/datasets_proc/textcaps_nn'\n",
    "\n",
    "# cap_exp = '_caption.json'"
   ]
  },
  {
   "cell_type": "code",
   "execution_count": 5,
   "id": "7a7a93e5-e883-4683-9585-8ce6e3471ccf",
   "metadata": {},
   "outputs": [],
   "source": [
    "caps = {'train': [], 'val': [], 'test': []}\n",
    "\n",
    "for split in caps.keys():\n",
    "    cap_filename = op.join(orig_root, orig_cap_filenames[split])\n",
    "    with open(cap_filename) as fp:\n",
    "        captions_json = json.load(fp)\n",
    "    caps[split] = captions_json['data']\n",
    "\n",
    "# caps['train'][0]"
   ]
  },
  {
   "cell_type": "code",
   "execution_count": 18,
   "id": "ec1b7d70-575b-49ab-adb0-8232e99d24d9",
   "metadata": {},
   "outputs": [
    {
     "name": "stdout",
     "output_type": "stream",
     "text": [
      "21953\n",
      "3166\n",
      "3289\n"
     ]
    }
   ],
   "source": [
    "img_list = {split_name: set([item['image_id'] + '.jpg' for item in caps[split_name]]) for split_name in caps.keys()}\n",
    "for split in img_list:\n",
    "    print(len(img_list[split]))"
   ]
  },
  {
   "cell_type": "code",
   "execution_count": 14,
   "id": "7abbe050-3dd5-47c3-a2bd-4c4a0b07af55",
   "metadata": {},
   "outputs": [
    {
     "name": "stderr",
     "output_type": "stream",
     "text": [
      "  0%|          | 1/21953 [00:00<11:20, 32.25it/s]"
     ]
    },
    {
     "name": "stdout",
     "output_type": "stream",
     "text": [
      "/media/stopmosk/data/huawei/datasets/textcaps_nn/train.img.tsv\n"
     ]
    },
    {
     "name": "stderr",
     "output_type": "stream",
     "text": [
      "\n",
      "  0%|          | 1/3166 [00:00<01:47, 29.39it/s]"
     ]
    },
    {
     "name": "stdout",
     "output_type": "stream",
     "text": [
      "/media/stopmosk/data/huawei/datasets/textcaps_nn/val.img.tsv\n"
     ]
    },
    {
     "name": "stderr",
     "output_type": "stream",
     "text": [
      "\n",
      "  0%|          | 1/3289 [00:00<02:40, 20.44it/s]"
     ]
    },
    {
     "name": "stdout",
     "output_type": "stream",
     "text": [
      "/media/stopmosk/data/huawei/datasets/textcaps_nn/test.img.tsv\n"
     ]
    },
    {
     "name": "stderr",
     "output_type": "stream",
     "text": [
      "\n"
     ]
    }
   ],
   "source": [
    "for split in caps.keys():\n",
    "    rows = []\n",
    "    rows_label = []\n",
    "    rows_hw = []\n",
    "\n",
    "    i = 2\n",
    "    for img_p in tqdm(img_list[split]):\n",
    "        img_key = img_p.split('.')[0]\n",
    "        img_path = op.join(orig_root, f\"{'test' if split=='test' else 'train'}_images\", img_p)\n",
    "        img = cv2.imread(img_path)\n",
    "        img_encoded_str = base64.b64encode(cv2.imencode('.jpg', img)[1])\n",
    "        row = [img_key, img_encoded_str]\n",
    "        # print(row[1][800:900] , flush=True)\n",
    "        rows.append(row)\n",
    "\n",
    "        height = img.shape[0]\n",
    "        width = img.shape[1]\n",
    "        row_hw = [img_key, json.dumps([{'height': height, 'width': width}])]\n",
    "        rows_hw.append(row_hw)\n",
    "        i -= 1\n",
    "        if i == 0:\n",
    "            break\n",
    "        \n",
    "    exp_encoded_img_file = op.join(exp_root, f'{split}.img.tsv')\n",
    "    exp_hw_file = op.join(exp_root, f'{split}.hw.tsv')\n",
    "    print(exp_encoded_img_file, flush=True)\n",
    "    tsv_writer(rows, exp_encoded_img_file)\n",
    "    # tsv_writer(rows_label, label_file)\n",
    "    tsv_writer(rows_hw, exp_hw_file)"
   ]
  },
  {
   "cell_type": "code",
   "execution_count": 24,
   "id": "a88477fc-697c-4438-8471-b0646cb39743",
   "metadata": {},
   "outputs": [],
   "source": [
    "# caps['val'][0]"
   ]
  },
  {
   "cell_type": "code",
   "execution_count": 30,
   "id": "b4892d6f-79ec-4bbc-b35b-545354ad72f4",
   "metadata": {},
   "outputs": [],
   "source": [
    "def generate_cap_json(split: str):\n",
    "    captions = []\n",
    "    cap_idx = 0\n",
    "    for sample in caps[split]:\n",
    "        image_id = sample['image_id']\n",
    "        caption_str = sample['caption_str']\n",
    "        captions.append(\n",
    "            {\n",
    "                'image_id': image_id,\n",
    "                'id': cap_idx,\n",
    "                'caption': caption_str,\n",
    "            }\n",
    "        )\n",
    "        cap_idx +=1\n",
    "    captions = sorted(captions, key=lambda k: k['image_id'])\n",
    "    print(captions[:10])\n",
    "    return captions"
   ]
  },
  {
   "cell_type": "code",
   "execution_count": 33,
   "id": "300794f7-c1c6-474a-8ed8-2186d267d64f",
   "metadata": {},
   "outputs": [
    {
     "name": "stdout",
     "output_type": "stream",
     "text": [
      "[{'image_id': '0000599864fd15b3', 'id': 10210, 'caption': 'Turqouise bus with the numbers \"29267222\" right behind a group of people taking a picture.'}, {'image_id': '0000599864fd15b3', 'id': 68612, 'caption': 'Five people pose for a photo as the number 5 bus passes in the background.'}, {'image_id': '0000599864fd15b3', 'id': 68743, 'caption': 'Five people pose in front of a bus that advertises for a Hong Kong company with the phone number 2926 7222.'}, {'image_id': '0000599864fd15b3', 'id': 104407, 'caption': 'A group of people are posing for a picture in front of a bus with the number 5 on it.'}, {'image_id': '0000599864fd15b3', 'id': 109362, 'caption': 'Double decker bus number 5 is a bright teal color.'}, {'image_id': '0000e8b36676338b', 'id': 176, 'caption': 'Oddly shaped bus that is apparently for private use only.'}, {'image_id': '0000e8b36676338b', 'id': 70087, 'caption': 'black and white bus with felix private above windshield and license plate of dbu 889'}, {'image_id': '0000e8b36676338b', 'id': 71638, 'caption': 'A very old bus has felix and private written in its destination windows'}, {'image_id': '0000e8b36676338b', 'id': 71876, 'caption': 'a vehicle with the letters DBU on the front'}, {'image_id': '0000e8b36676338b', 'id': 73228, 'caption': 'A classic vehicle that looks like it is a cross between a bus and a van has the words Felix Private over the windshield.'}]\n",
      "[{'image_id': '0004c9478eeda995', 'id': 2251, 'caption': \"A place named Stella's serves cocktails to its customers.\"}, {'image_id': '0004c9478eeda995', 'id': 12601, 'caption': 'An entrance has a sign with the business name Stella Caffe on it.'}, {'image_id': '0004c9478eeda995', 'id': 12726, 'caption': 'A storefront has the name Stella on a sign outside.'}, {'image_id': '0004c9478eeda995', 'id': 13124, 'caption': 'Stella Cafe is on the corner of a street.'}, {'image_id': '0004c9478eeda995', 'id': 13153, 'caption': 'a caffe called stella next to a fine paper store'}, {'image_id': '00054dab88635bdb', 'id': 185, 'caption': 'A car show with people looking at cars at Becker Auto Body'}, {'image_id': '00054dab88635bdb', 'id': 1083, 'caption': 'Car that is driving pass people and becker auto body'}, {'image_id': '00054dab88635bdb', 'id': 9937, 'caption': 'A red muscle car with the license plate IDH 1969 drives past Becker Auto Body.'}, {'image_id': '00054dab88635bdb', 'id': 10000, 'caption': 'Red car that has the letters SS on the front.'}, {'image_id': '00054dab88635bdb', 'id': 10688, 'caption': 'Red car with a plate that says TDH1969 on it.'}]\n"
     ]
    }
   ],
   "source": [
    "# cap_exp = '_caption.json'\n",
    "\n",
    "for split in ['train', 'val']:\n",
    "    cap_filename = op.join(exp_root, f'{split}_caption.json')\n",
    "    with open(cap_filename, 'w') as fp:\n",
    "        json.dump(generate_cap_json(split), fp)"
   ]
  },
  {
   "cell_type": "code",
   "execution_count": null,
   "id": "0c2850ec-7d17-4236-ab7f-09f91866a654",
   "metadata": {},
   "outputs": [],
   "source": []
  }
 ],
 "metadata": {
  "kernelspec": {
   "display_name": "Python 3",
   "language": "python",
   "name": "python3"
  },
  "language_info": {
   "codemirror_mode": {
    "name": "ipython",
    "version": 3
   },
   "file_extension": ".py",
   "mimetype": "text/x-python",
   "name": "python",
   "nbconvert_exporter": "python",
   "pygments_lexer": "ipython3",
   "version": "3.8.10"
  }
 },
 "nbformat": 4,
 "nbformat_minor": 5
}
