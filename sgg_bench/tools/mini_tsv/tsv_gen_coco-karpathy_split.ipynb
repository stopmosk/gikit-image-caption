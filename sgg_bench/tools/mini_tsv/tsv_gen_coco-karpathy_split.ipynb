{
 "cells": [
  {
   "cell_type": "code",
   "execution_count": 1,
   "id": "fb49a27d-6cd5-4c14-b982-6cb7ceaea73a",
   "metadata": {},
   "outputs": [],
   "source": [
    "import os\n",
    "import os.path as op\n",
    "import json\n",
    "import cv2\n",
    "import base64\n",
    "import numpy as np\n",
    "from tqdm import tqdm\n",
    "\n",
    "import numpy as np\n",
    "import matplotlib.pyplot as plt\n",
    "\n",
    "from PIL import Image, ImageDraw\n",
    "\n",
    "from maskrcnn_benchmark.structures.tsv_file_ops import tsv_reader, tsv_writer\n",
    "from maskrcnn_benchmark.structures.tsv_file_ops import generate_linelist_file\n",
    "from maskrcnn_benchmark.structures.tsv_file_ops import generate_hw_file\n",
    "from maskrcnn_benchmark.structures.tsv_file import TSVFile\n",
    "from maskrcnn_benchmark.data.datasets.utils.image_ops import img_from_base64"
   ]
  },
  {
   "cell_type": "code",
   "execution_count": 14,
   "id": "72ca6a90-7250-4057-b031-d49570910323",
   "metadata": {},
   "outputs": [],
   "source": [
    "orig_root = '../../../../datasets/coco_2014'\n",
    "img_root = op.join(orig_root, 'images')\n",
    "\n",
    "exp_root = '../../../../datasets/coco_2014_nn'\n",
    "\n",
    "splits = ['train', 'val', 'test']"
   ]
  },
  {
   "cell_type": "code",
   "execution_count": 7,
   "id": "8073bb9d-eff6-4152-8464-8eea6aee7ddb",
   "metadata": {},
   "outputs": [],
   "source": [
    "with open(op.join(orig_root, 'dataset_coco.json')) as f:\n",
    "    karpathy = json.load(f)"
   ]
  },
  {
   "cell_type": "code",
   "execution_count": 25,
   "id": "8281f467-db2f-4e49-afb1-705a90102e3f",
   "metadata": {},
   "outputs": [
    {
     "name": "stdout",
     "output_type": "stream",
     "text": [
      "val2014\n",
      "COCO_val2014_000000382088.jpg\n",
      "382088\n"
     ]
    }
   ],
   "source": [
    "print(karpathy['images'][555]['filepath'])\n",
    "print(karpathy['images'][555]['filename'])\n",
    "print(karpathy['images'][555]['cocoid'])"
   ]
  },
  {
   "cell_type": "code",
   "execution_count": 16,
   "id": "39f9505d-75e6-4564-a4f2-41e015e34d5e",
   "metadata": {},
   "outputs": [
    {
     "name": "stdout",
     "output_type": "stream",
     "text": [
      "('57870', 'train2014/COCO_train2014_000000057870.jpg')\n",
      "[82783, 5000, 5000]\n"
     ]
    }
   ],
   "source": [
    "img_list = {split: [] for split in splits}\n",
    "\n",
    "for sample in karpathy['images']:\n",
    "    split = sample['split']\n",
    "    if split == 'restval':\n",
    "        continue\n",
    "    filepath = sample['filepath']\n",
    "    filename = sample['filename']\n",
    "    img_key = str(sample['cocoid'])\n",
    "    img_list[split].append(\n",
    "        (img_key, op.join(filepath, filename))\n",
    "    )\n",
    "    \n",
    "print(img_list['train'][0])  # sample\n",
    "print([len(img_list[split]) for split in splits])  # train, val, test"
   ]
  },
  {
   "cell_type": "code",
   "execution_count": 23,
   "id": "7abbe050-3dd5-47c3-a2bd-4c4a0b07af55",
   "metadata": {},
   "outputs": [
    {
     "name": "stderr",
     "output_type": "stream",
     "text": [
      "100%|██████████| 82783/82783 [26:29<00:00, 52.10it/s]\n",
      "100%|██████████| 5000/5000 [02:38<00:00, 31.63it/s]\n",
      "100%|██████████| 5000/5000 [02:19<00:00, 35.80it/s]\n"
     ]
    }
   ],
   "source": [
    "for split in splits:\n",
    "    rows = []\n",
    "    rows_label = []\n",
    "    rows_hw = []\n",
    "\n",
    "    # i = 5\n",
    "    for sample in tqdm(img_list[split]):\n",
    "        # print(sample)\n",
    "        img_key = sample[0]\n",
    "        img_path = op.join(img_root, sample[1])\n",
    "        img = cv2.imread(img_path)\n",
    "        img_encoded_str = base64.b64encode(cv2.imencode('.jpg', img)[1])\n",
    "        row = (img_key, img_encoded_str)\n",
    "        # print(row[1][800:900] , flush=True)\n",
    "        rows.append(row)\n",
    "\n",
    "        height = img.shape[0]\n",
    "        width = img.shape[1]\n",
    "        row_hw = [img_key, json.dumps([{'height': height, 'width': width}])]\n",
    "        rows_hw.append(row_hw)\n",
    "        \n",
    "    exp_encoded_img_file = op.join(exp_root, f'{split}.img.tsv')\n",
    "    exp_hw_file = op.join(exp_root, f'{split}.hw.tsv')\n",
    "    tsv_writer(rows, exp_encoded_img_file)\n",
    "    tsv_writer(rows_hw, exp_hw_file)\n",
    "    # tsv_writer(rows_label, label_file)"
   ]
  },
  {
   "cell_type": "code",
   "execution_count": null,
   "id": "4efde60e-bec0-4013-a5f9-443191c4fab4",
   "metadata": {},
   "outputs": [],
   "source": []
  }
 ],
 "metadata": {
  "kernelspec": {
   "display_name": "Python 3",
   "language": "python",
   "name": "python3"
  },
  "language_info": {
   "codemirror_mode": {
    "name": "ipython",
    "version": 3
   },
   "file_extension": ".py",
   "mimetype": "text/x-python",
   "name": "python",
   "nbconvert_exporter": "python",
   "pygments_lexer": "ipython3",
   "version": "3.8.10"
  }
 },
 "nbformat": 4,
 "nbformat_minor": 5
}
